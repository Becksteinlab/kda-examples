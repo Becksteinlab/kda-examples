{
 "cells": [
  {
   "cell_type": "markdown",
   "metadata": {},
   "source": [
    "# 6 State Model Net Cycle Flux Testing"
   ]
  },
  {
   "cell_type": "code",
   "execution_count": 1,
   "metadata": {},
   "outputs": [],
   "source": [
    "import os\n",
    "import sys\n",
    "\n",
    "import numpy as np\n",
    "import sympy\n",
    "import networkx as nx\n",
    "import matplotlib.pyplot as plt\n",
    "\n",
    "from kda import plotting, graph_utils, calculations, diagrams, expressions, ode"
   ]
  },
  {
   "cell_type": "code",
   "execution_count": 2,
   "metadata": {},
   "outputs": [],
   "source": [
    "kvals1 = np.array(\n",
    "    [\n",
    "        [0, 1, 0, 0, 0, 1],\n",
    "        [1, 0, 1, 0, 0, 0],\n",
    "        [0, 1, 0, 1, 0, 0],\n",
    "        [0, 0, 1, 0, 1, 0],\n",
    "        [0, 0, 0, 1, 0, 1],\n",
    "        [1, 0, 0, 0, 1, 0],\n",
    "    ]\n",
    ")\n",
    "kvals2 = np.array(\n",
    "    [\n",
    "        [0, 1, 0, 1, 0, 1],\n",
    "        [1, 0, 1, 0, 0, 0],\n",
    "        [0, 1, 0, 1, 0, 0],\n",
    "        [1, 0, 1, 0, 1, 0],\n",
    "        [0, 0, 0, 1, 0, 1],\n",
    "        [1, 0, 0, 0, 1, 0],\n",
    "    ]\n",
    ")\n",
    "\n",
    "G1 = nx.MultiDiGraph()\n",
    "graph_utils.generate_edges(G1, kvals1)\n",
    "G2 = nx.MultiDiGraph()\n",
    "graph_utils.generate_edges(G2, kvals2)\n",
    "\n",
    "pos = {}\n",
    "offset = (np.pi / 2)\n",
    "for i in range(6):\n",
    "    theta = offset - i * (np.pi / 3)\n",
    "    pos[i] = [np.cos(theta), np.sin(theta)]\n",
    "\n",
    "cwd = os.getcwd()"
   ]
  },
  {
   "cell_type": "code",
   "execution_count": 3,
   "metadata": {},
   "outputs": [],
   "source": [
    "plotting.draw_diagrams(G1, pos=pos, font_size=12, path=cwd, label=\"6_state_diagram\", curved_arrows=True)\n",
    "plotting.draw_diagrams(G2, pos=pos, font_size=12, path=cwd, label=\"6_state_leakage_diagram\", curved_arrows=True)"
   ]
  },
  {
   "cell_type": "code",
   "execution_count": 4,
   "metadata": {},
   "outputs": [
    {
     "name": "stderr",
     "output_type": "stream",
     "text": [
      "findfont: Font family ['Helvetica'] not found. Falling back to DejaVu Sans.\n",
      "findfont: Font family ['Helvetica'] not found. Falling back to DejaVu Sans.\n"
     ]
    }
   ],
   "source": [
    "sol = ode.ode_solver(np.array([1/3, 1/3, 1/3, 0, 0, 0]), kvals1, t_max=8)\n",
    "plotting.draw_ode_results(sol, path=cwd, label=\"6_state_ode_solution\")"
   ]
  },
  {
   "cell_type": "code",
   "execution_count": 5,
   "metadata": {},
   "outputs": [],
   "source": [
    "pars = diagrams.generate_partial_diagrams(G2)\n",
    "plotting.draw_diagrams(pars, pos=pos, panel=True, panel_scale=1.75, rows=1, font_size=12, path=cwd, label=\"6wl_partial_diagrams\")\n",
    "\n",
    "dirpars = diagrams.generate_directional_diagrams(G2)\n",
    "plotting.draw_diagrams(dirpars, pos=pos, panel=True, panel_scale=1.75, rows=6, font_size=12, cbt=True, path=cwd, label=\"6wl_directional_diagrams\")"
   ]
  },
  {
   "cell_type": "code",
   "execution_count": 6,
   "metadata": {},
   "outputs": [],
   "source": [
    "G1_cycle = graph_utils.find_all_unique_cycles(G1)[0]\n",
    "G2_cycles = graph_utils.find_all_unique_cycles(G2)\n",
    "\n",
    "# pick positive direction\n",
    "G1_order = [1, 0]\n",
    "G2_orders = [[0, 5], [1, 0], [1, 0]]"
   ]
  },
  {
   "cell_type": "code",
   "execution_count": 7,
   "metadata": {},
   "outputs": [],
   "source": [
    "G2_cycles_reordered = [G2_cycles[1], G2_cycles[0], G2_cycles[2]]"
   ]
  },
  {
   "cell_type": "code",
   "execution_count": 8,
   "metadata": {},
   "outputs": [],
   "source": [
    "plotting.draw_cycles(G2, G2_cycles_reordered, pos=pos, panel=True, panel_scale=1.75, font_size=12, path=cwd, label=\"6wl_cycles\", curved_arrows=True, cbt=False)"
   ]
  },
  {
   "cell_type": "code",
   "execution_count": 9,
   "metadata": {},
   "outputs": [],
   "source": [
    "rate_names1 = [\"A_on, A_off, B_on, B_off, k_conf, A_in, A_out, c_B\"]\n",
    "A_on, A_off, B_on, B_off, k_conf, A_in, A_out, c_B = sympy.symbols('A_on A_off B_on B_off k_conf A_in A_out c_B')\n",
    "k12, k21, k23, k32, k34, k43, k45, k54, k56, k65, k61, k16 = sympy.symbols(\"k12 k21 k23 k32 k34 k43 k45 k54 k56 k65 k61 k16\")\n",
    "sub_dict1 = {\n",
    "    k12 : A_on*A_out,\n",
    "    k21 : A_off,\n",
    "    k23 : k_conf,\n",
    "    k32 : k_conf,\n",
    "    k34 : A_off,\n",
    "    k43 : A_on*A_in,\n",
    "    k45 : B_on*c_B,\n",
    "    k54 : B_off,\n",
    "    k56 : k_conf,\n",
    "    k65 : k_conf,\n",
    "    k61 : B_off,\n",
    "    k16 : B_on*c_B,\n",
    "}\n",
    "\n",
    "rate_names2 = [\"A_on, A_off, B_on, B_off, k_conf, k_leak, A_in, A_out, c_B\"]\n",
    "A_on, A_off, B_on, B_off, k_conf, k_leak,  A_in, A_out, c_B = sympy.symbols('A_on A_off B_on B_off k_conf k_leak A_in A_out c_B')\n",
    "k12, k21, k23, k32, k34, k43, k45, k54, k56, k65, k61, k16, k14, k41 = sympy.symbols(\"k12 k21 k23 k32 k34 k43 k45 k54 k56 k65 k61 k16 k14, k41\")\n",
    "sub_dict2 = {\n",
    "    k12 : A_on*A_out,\n",
    "    k21 : A_off,\n",
    "    k23 : k_conf,\n",
    "    k32 : k_conf,\n",
    "    k34 : A_off,\n",
    "    k43 : A_on*A_in,\n",
    "    k45 : B_on*c_B,\n",
    "    k54 : B_off,\n",
    "    k56 : k_conf,\n",
    "    k65 : k_conf,\n",
    "    k61 : B_off,\n",
    "    k16 : B_on*c_B,\n",
    "    k14 : k_leak, \n",
    "    k41 : k_leak,\n",
    "}"
   ]
  },
  {
   "cell_type": "code",
   "execution_count": 10,
   "metadata": {},
   "outputs": [
    {
     "name": "stdout",
     "output_type": "stream",
     "text": [
      "Cycle [0, 5, 4, 3, 2, 1] contains all nodes in G. No flux diagrams generated.\n",
      "No flux diagrams detected for cycle [0, 5, 4, 3, 2, 1]. Sigma K value is 1.\n",
      "Cycle [0, 5, 4, 3, 2, 1] contains all nodes in G. No flux diagrams generated.\n",
      "No flux diagrams detected for cycle [0, 5, 4, 3, 2, 1]. Sigma K value is 1.\n"
     ]
    }
   ],
   "source": [
    "G1_cycle_flux_str = calculations.calc_net_cycle_flux(G1, G1_cycle, order=G1_order, key='name', output_strings=True)\n",
    "\n",
    "G2_cycle_flux_strs = []\n",
    "for cycle, order in zip(G2_cycles_reordered, G2_orders):\n",
    "    func = calculations.calc_net_cycle_flux(G2, cycle, order=order, key='name', output_strings=True)\n",
    "    G2_cycle_flux_strs.append(func)"
   ]
  },
  {
   "cell_type": "code",
   "execution_count": 11,
   "metadata": {},
   "outputs": [],
   "source": [
    "G1_prob_strs = calculations.calc_state_probs(G1, key='name', output_strings=True)\n",
    "G2_prob_strs = calculations.calc_state_probs(G2, key='name', output_strings=True)"
   ]
  },
  {
   "cell_type": "markdown",
   "metadata": {},
   "source": [
    "## State Probabilities: Before Simplification"
   ]
  },
  {
   "cell_type": "code",
   "execution_count": 12,
   "metadata": {},
   "outputs": [
    {
     "data": {
      "text/latex": [
       "$\\displaystyle \\frac{k_{12} k_{23} k_{34} k_{45} k_{56} + k_{14} k_{21} k_{32} k_{45} k_{56} + k_{14} k_{21} k_{34} k_{45} k_{56} + k_{14} k_{23} k_{34} k_{45} k_{56} + k_{16} k_{21} k_{32} k_{41} k_{54} + k_{16} k_{21} k_{32} k_{41} k_{56} + k_{16} k_{21} k_{32} k_{43} k_{54} + k_{16} k_{21} k_{32} k_{43} k_{56} + k_{16} k_{21} k_{32} k_{45} k_{56} + k_{16} k_{21} k_{34} k_{41} k_{54} + k_{16} k_{21} k_{34} k_{41} k_{56} + k_{16} k_{21} k_{34} k_{45} k_{56} + k_{16} k_{23} k_{34} k_{41} k_{54} + k_{16} k_{23} k_{34} k_{41} k_{56} + k_{16} k_{23} k_{34} k_{45} k_{56}}{k_{12} k_{23} k_{34} k_{45} k_{56} + k_{12} k_{23} k_{34} k_{45} k_{61} + k_{12} k_{23} k_{34} k_{45} k_{65} + k_{12} k_{23} k_{34} k_{54} k_{61} + k_{12} k_{23} k_{34} k_{54} k_{65} + k_{12} k_{23} k_{34} k_{56} k_{61} + k_{12} k_{23} k_{41} k_{54} k_{61} + k_{12} k_{23} k_{41} k_{54} k_{65} + k_{12} k_{23} k_{41} k_{56} k_{61} + k_{12} k_{23} k_{43} k_{54} k_{61} + k_{12} k_{23} k_{43} k_{54} k_{65} + k_{12} k_{23} k_{43} k_{56} k_{61} + k_{12} k_{23} k_{45} k_{56} k_{61} + k_{12} k_{32} k_{41} k_{54} k_{61} + k_{12} k_{32} k_{41} k_{54} k_{65} + k_{12} k_{32} k_{41} k_{56} k_{61} + k_{12} k_{32} k_{43} k_{54} k_{61} + k_{12} k_{32} k_{43} k_{54} k_{65} + k_{12} k_{32} k_{43} k_{56} k_{61} + k_{12} k_{32} k_{45} k_{56} k_{61} + k_{12} k_{34} k_{41} k_{54} k_{61} + k_{12} k_{34} k_{41} k_{54} k_{65} + k_{12} k_{34} k_{41} k_{56} k_{61} + k_{12} k_{34} k_{45} k_{56} k_{61} + k_{14} k_{21} k_{32} k_{45} k_{56} + k_{14} k_{21} k_{32} k_{45} k_{61} + k_{14} k_{21} k_{32} k_{45} k_{65} + k_{14} k_{21} k_{32} k_{54} k_{61} + k_{14} k_{21} k_{32} k_{54} k_{65} + k_{14} k_{21} k_{32} k_{56} k_{61} + k_{14} k_{21} k_{34} k_{45} k_{56} + k_{14} k_{21} k_{34} k_{45} k_{61} + k_{14} k_{21} k_{34} k_{45} k_{65} + k_{14} k_{21} k_{34} k_{54} k_{61} + k_{14} k_{21} k_{34} k_{54} k_{65} + k_{14} k_{21} k_{34} k_{56} k_{61} + k_{14} k_{21} k_{43} k_{54} k_{61} + k_{14} k_{21} k_{43} k_{54} k_{65} + k_{14} k_{21} k_{43} k_{56} k_{61} + k_{14} k_{23} k_{34} k_{45} k_{56} + k_{14} k_{23} k_{34} k_{45} k_{61} + k_{14} k_{23} k_{34} k_{45} k_{65} + k_{14} k_{23} k_{34} k_{54} k_{61} + k_{14} k_{23} k_{34} k_{54} k_{65} + k_{14} k_{23} k_{34} k_{56} k_{61} + k_{14} k_{23} k_{43} k_{54} k_{61} + k_{14} k_{23} k_{43} k_{54} k_{65} + k_{14} k_{23} k_{43} k_{56} k_{61} + k_{14} k_{32} k_{43} k_{54} k_{61} + k_{14} k_{32} k_{43} k_{54} k_{65} + k_{14} k_{32} k_{43} k_{56} k_{61} + k_{16} k_{21} k_{32} k_{41} k_{54} + k_{16} k_{21} k_{32} k_{41} k_{56} + k_{16} k_{21} k_{32} k_{41} k_{65} + k_{16} k_{21} k_{32} k_{43} k_{54} + k_{16} k_{21} k_{32} k_{43} k_{56} + k_{16} k_{21} k_{32} k_{43} k_{65} + k_{16} k_{21} k_{32} k_{45} k_{56} + k_{16} k_{21} k_{32} k_{45} k_{65} + k_{16} k_{21} k_{32} k_{54} k_{65} + k_{16} k_{21} k_{34} k_{41} k_{54} + k_{16} k_{21} k_{34} k_{41} k_{56} + k_{16} k_{21} k_{34} k_{41} k_{65} + k_{16} k_{21} k_{34} k_{45} k_{56} + k_{16} k_{21} k_{34} k_{45} k_{65} + k_{16} k_{21} k_{34} k_{54} k_{65} + k_{16} k_{21} k_{43} k_{54} k_{65} + k_{16} k_{23} k_{34} k_{41} k_{54} + k_{16} k_{23} k_{34} k_{41} k_{56} + k_{16} k_{23} k_{34} k_{41} k_{65} + k_{16} k_{23} k_{34} k_{45} k_{56} + k_{16} k_{23} k_{34} k_{45} k_{65} + k_{16} k_{23} k_{34} k_{54} k_{65} + k_{16} k_{23} k_{43} k_{54} k_{65} + k_{16} k_{32} k_{43} k_{54} k_{65} + k_{21} k_{32} k_{41} k_{54} k_{61} + k_{21} k_{32} k_{41} k_{54} k_{65} + k_{21} k_{32} k_{41} k_{56} k_{61} + k_{21} k_{32} k_{43} k_{54} k_{61} + k_{21} k_{32} k_{43} k_{54} k_{65} + k_{21} k_{32} k_{43} k_{56} k_{61} + k_{21} k_{32} k_{45} k_{56} k_{61} + k_{21} k_{34} k_{41} k_{54} k_{61} + k_{21} k_{34} k_{41} k_{54} k_{65} + k_{21} k_{34} k_{41} k_{56} k_{61} + k_{21} k_{34} k_{45} k_{56} k_{61} + k_{23} k_{34} k_{41} k_{54} k_{61} + k_{23} k_{34} k_{41} k_{54} k_{65} + k_{23} k_{34} k_{41} k_{56} k_{61} + k_{23} k_{34} k_{45} k_{56} k_{61}}$"
      ],
      "text/plain": [
       "(k12*k23*k34*k45*k56 + k14*k21*k32*k45*k56 + k14*k21*k34*k45*k56 + k14*k23*k34*k45*k56 + k16*k21*k32*k41*k54 + k16*k21*k32*k41*k56 + k16*k21*k32*k43*k54 + k16*k21*k32*k43*k56 + k16*k21*k32*k45*k56 + k16*k21*k34*k41*k54 + k16*k21*k34*k41*k56 + k16*k21*k34*k45*k56 + k16*k23*k34*k41*k54 + k16*k23*k34*k41*k56 + k16*k23*k34*k45*k56)/(k12*k23*k34*k45*k56 + k12*k23*k34*k45*k61 + k12*k23*k34*k45*k65 + k12*k23*k34*k54*k61 + k12*k23*k34*k54*k65 + k12*k23*k34*k56*k61 + k12*k23*k41*k54*k61 + k12*k23*k41*k54*k65 + k12*k23*k41*k56*k61 + k12*k23*k43*k54*k61 + k12*k23*k43*k54*k65 + k12*k23*k43*k56*k61 + k12*k23*k45*k56*k61 + k12*k32*k41*k54*k61 + k12*k32*k41*k54*k65 + k12*k32*k41*k56*k61 + k12*k32*k43*k54*k61 + k12*k32*k43*k54*k65 + k12*k32*k43*k56*k61 + k12*k32*k45*k56*k61 + k12*k34*k41*k54*k61 + k12*k34*k41*k54*k65 + k12*k34*k41*k56*k61 + k12*k34*k45*k56*k61 + k14*k21*k32*k45*k56 + k14*k21*k32*k45*k61 + k14*k21*k32*k45*k65 + k14*k21*k32*k54*k61 + k14*k21*k32*k54*k65 + k14*k21*k32*k56*k61 + k14*k21*k34*k45*k56 + k14*k21*k34*k45*k61 + k14*k21*k34*k45*k65 + k14*k21*k34*k54*k61 + k14*k21*k34*k54*k65 + k14*k21*k34*k56*k61 + k14*k21*k43*k54*k61 + k14*k21*k43*k54*k65 + k14*k21*k43*k56*k61 + k14*k23*k34*k45*k56 + k14*k23*k34*k45*k61 + k14*k23*k34*k45*k65 + k14*k23*k34*k54*k61 + k14*k23*k34*k54*k65 + k14*k23*k34*k56*k61 + k14*k23*k43*k54*k61 + k14*k23*k43*k54*k65 + k14*k23*k43*k56*k61 + k14*k32*k43*k54*k61 + k14*k32*k43*k54*k65 + k14*k32*k43*k56*k61 + k16*k21*k32*k41*k54 + k16*k21*k32*k41*k56 + k16*k21*k32*k41*k65 + k16*k21*k32*k43*k54 + k16*k21*k32*k43*k56 + k16*k21*k32*k43*k65 + k16*k21*k32*k45*k56 + k16*k21*k32*k45*k65 + k16*k21*k32*k54*k65 + k16*k21*k34*k41*k54 + k16*k21*k34*k41*k56 + k16*k21*k34*k41*k65 + k16*k21*k34*k45*k56 + k16*k21*k34*k45*k65 + k16*k21*k34*k54*k65 + k16*k21*k43*k54*k65 + k16*k23*k34*k41*k54 + k16*k23*k34*k41*k56 + k16*k23*k34*k41*k65 + k16*k23*k34*k45*k56 + k16*k23*k34*k45*k65 + k16*k23*k34*k54*k65 + k16*k23*k43*k54*k65 + k16*k32*k43*k54*k65 + k21*k32*k41*k54*k61 + k21*k32*k41*k54*k65 + k21*k32*k41*k56*k61 + k21*k32*k43*k54*k61 + k21*k32*k43*k54*k65 + k21*k32*k43*k56*k61 + k21*k32*k45*k56*k61 + k21*k34*k41*k54*k61 + k21*k34*k41*k54*k65 + k21*k34*k41*k56*k61 + k21*k34*k45*k56*k61 + k23*k34*k41*k54*k61 + k23*k34*k41*k54*k65 + k23*k34*k41*k56*k61 + k23*k34*k45*k56*k61)"
      ]
     },
     "execution_count": 12,
     "metadata": {},
     "output_type": "execute_result"
    }
   ],
   "source": [
    "G2_prob_strs[-1]"
   ]
  },
  {
   "cell_type": "markdown",
   "metadata": {},
   "source": [
    "## State Probabilities: After Simplification"
   ]
  },
  {
   "cell_type": "code",
   "execution_count": 13,
   "metadata": {},
   "outputs": [],
   "source": [
    "G2_simplified_prob_funcs = []\n",
    "for str_func in G2_prob_strs:\n",
    "    G2_simplified_prob_funcs.append(str_func.subs(sub_dict2).simplify())"
   ]
  },
  {
   "cell_type": "code",
   "execution_count": 14,
   "metadata": {},
   "outputs": [
    {
     "data": {
      "text/latex": [
       "$\\displaystyle \\frac{A_{off} B_{on} c_{B} \\left(A_{in} A_{on} B_{off} k_{conf} + A_{in} A_{on} k_{conf}^{2} + A_{off} B_{off} k_{leak} + A_{off} B_{on} c_{B} k_{conf} + 2 A_{off} k_{conf} k_{leak} + A_{on} A_{out} k_{conf}^{2} + 2 B_{off} k_{conf} k_{leak} + 2 B_{on} c_{B} k_{conf}^{2} + 4 k_{conf}^{2} k_{leak}\\right)}{A_{in} A_{off} A_{on} B_{off}^{2} k_{conf} + A_{in} A_{off} A_{on} B_{off}^{2} k_{leak} + 2 A_{in} A_{off} A_{on} B_{off} B_{on} c_{B} k_{conf} + 2 A_{in} A_{off} A_{on} B_{off} k_{conf}^{2} + 2 A_{in} A_{off} A_{on} B_{off} k_{conf} k_{leak} + 2 A_{in} A_{off} A_{on} B_{on} c_{B} k_{conf}^{2} + 2 A_{in} A_{on}^{2} A_{out} B_{off}^{2} k_{conf} + 4 A_{in} A_{on}^{2} A_{out} B_{off} k_{conf}^{2} + 2 A_{in} A_{on} B_{off}^{2} k_{conf} k_{leak} + 2 A_{in} A_{on} B_{off} B_{on} c_{B} k_{conf}^{2} + 4 A_{in} A_{on} B_{off} k_{conf}^{2} k_{leak} + 2 A_{off}^{2} B_{off}^{2} k_{leak} + 2 A_{off}^{2} B_{off} B_{on} c_{B} k_{conf} + 2 A_{off}^{2} B_{off} B_{on} c_{B} k_{leak} + 4 A_{off}^{2} B_{off} k_{conf} k_{leak} + 2 A_{off}^{2} B_{on}^{2} c_{B}^{2} k_{conf} + 4 A_{off}^{2} B_{on} c_{B} k_{conf} k_{leak} + A_{off} A_{on} A_{out} B_{off}^{2} k_{conf} + A_{off} A_{on} A_{out} B_{off}^{2} k_{leak} + 2 A_{off} A_{on} A_{out} B_{off} B_{on} c_{B} k_{conf} + 2 A_{off} A_{on} A_{out} B_{off} k_{conf}^{2} + 2 A_{off} A_{on} A_{out} B_{off} k_{conf} k_{leak} + 2 A_{off} A_{on} A_{out} B_{on} c_{B} k_{conf}^{2} + 4 A_{off} B_{off}^{2} k_{conf} k_{leak} + 4 A_{off} B_{off} B_{on} c_{B} k_{conf}^{2} + 4 A_{off} B_{off} B_{on} c_{B} k_{conf} k_{leak} + 8 A_{off} B_{off} k_{conf}^{2} k_{leak} + 4 A_{off} B_{on}^{2} c_{B}^{2} k_{conf}^{2} + 8 A_{off} B_{on} c_{B} k_{conf}^{2} k_{leak} + 2 A_{on} A_{out} B_{off}^{2} k_{conf} k_{leak} + 2 A_{on} A_{out} B_{off} B_{on} c_{B} k_{conf}^{2} + 4 A_{on} A_{out} B_{off} k_{conf}^{2} k_{leak}}$"
      ],
      "text/plain": [
       "A_off*B_on*c_B*(A_in*A_on*B_off*k_conf + A_in*A_on*k_conf**2 + A_off*B_off*k_leak + A_off*B_on*c_B*k_conf + 2*A_off*k_conf*k_leak + A_on*A_out*k_conf**2 + 2*B_off*k_conf*k_leak + 2*B_on*c_B*k_conf**2 + 4*k_conf**2*k_leak)/(A_in*A_off*A_on*B_off**2*k_conf + A_in*A_off*A_on*B_off**2*k_leak + 2*A_in*A_off*A_on*B_off*B_on*c_B*k_conf + 2*A_in*A_off*A_on*B_off*k_conf**2 + 2*A_in*A_off*A_on*B_off*k_conf*k_leak + 2*A_in*A_off*A_on*B_on*c_B*k_conf**2 + 2*A_in*A_on**2*A_out*B_off**2*k_conf + 4*A_in*A_on**2*A_out*B_off*k_conf**2 + 2*A_in*A_on*B_off**2*k_conf*k_leak + 2*A_in*A_on*B_off*B_on*c_B*k_conf**2 + 4*A_in*A_on*B_off*k_conf**2*k_leak + 2*A_off**2*B_off**2*k_leak + 2*A_off**2*B_off*B_on*c_B*k_conf + 2*A_off**2*B_off*B_on*c_B*k_leak + 4*A_off**2*B_off*k_conf*k_leak + 2*A_off**2*B_on**2*c_B**2*k_conf + 4*A_off**2*B_on*c_B*k_conf*k_leak + A_off*A_on*A_out*B_off**2*k_conf + A_off*A_on*A_out*B_off**2*k_leak + 2*A_off*A_on*A_out*B_off*B_on*c_B*k_conf + 2*A_off*A_on*A_out*B_off*k_conf**2 + 2*A_off*A_on*A_out*B_off*k_conf*k_leak + 2*A_off*A_on*A_out*B_on*c_B*k_conf**2 + 4*A_off*B_off**2*k_conf*k_leak + 4*A_off*B_off*B_on*c_B*k_conf**2 + 4*A_off*B_off*B_on*c_B*k_conf*k_leak + 8*A_off*B_off*k_conf**2*k_leak + 4*A_off*B_on**2*c_B**2*k_conf**2 + 8*A_off*B_on*c_B*k_conf**2*k_leak + 2*A_on*A_out*B_off**2*k_conf*k_leak + 2*A_on*A_out*B_off*B_on*c_B*k_conf**2 + 4*A_on*A_out*B_off*k_conf**2*k_leak)"
      ]
     },
     "execution_count": 14,
     "metadata": {},
     "output_type": "execute_result"
    }
   ],
   "source": [
    "G2_simplified_prob_funcs[-1]"
   ]
  },
  {
   "cell_type": "markdown",
   "metadata": {},
   "source": [
    "## Net Cycle Flux: After Simplification"
   ]
  },
  {
   "cell_type": "markdown",
   "metadata": {},
   "source": [
    "Convert the output KDA expressions into SymPy expressions, substitute the new variables in, and simplify."
   ]
  },
  {
   "cell_type": "code",
   "execution_count": 15,
   "metadata": {},
   "outputs": [],
   "source": [
    "G1_sympy_func = G1_cycle_flux_str.subs(sub_dict1).simplify()\n",
    "\n",
    "G2_sympy_funcs = []\n",
    "for str_func in G2_cycle_flux_strs:\n",
    "    G2_sympy_funcs.append(str_func.subs(sub_dict2).simplify())"
   ]
  },
  {
   "cell_type": "markdown",
   "metadata": {},
   "source": [
    "The net cycle flux/operational flux for the productive cycle in **G1**:"
   ]
  },
  {
   "cell_type": "code",
   "execution_count": 16,
   "metadata": {},
   "outputs": [
    {
     "data": {
      "text/latex": [
       "$\\displaystyle \\frac{A_{off} A_{on} B_{off} B_{on} c_{B} k_{conf} \\left(A_{in} - A_{out}\\right)}{A_{in} A_{off} A_{on} B_{off}^{2} + 2 A_{in} A_{off} A_{on} B_{off} B_{on} c_{B} + 2 A_{in} A_{off} A_{on} B_{off} k_{conf} + 2 A_{in} A_{off} A_{on} B_{on} c_{B} k_{conf} + 2 A_{in} A_{on}^{2} A_{out} B_{off}^{2} + 4 A_{in} A_{on}^{2} A_{out} B_{off} k_{conf} + 2 A_{in} A_{on} B_{off} B_{on} c_{B} k_{conf} + 2 A_{off}^{2} B_{off} B_{on} c_{B} + 2 A_{off}^{2} B_{on}^{2} c_{B}^{2} + A_{off} A_{on} A_{out} B_{off}^{2} + 2 A_{off} A_{on} A_{out} B_{off} B_{on} c_{B} + 2 A_{off} A_{on} A_{out} B_{off} k_{conf} + 2 A_{off} A_{on} A_{out} B_{on} c_{B} k_{conf} + 4 A_{off} B_{off} B_{on} c_{B} k_{conf} + 4 A_{off} B_{on}^{2} c_{B}^{2} k_{conf} + 2 A_{on} A_{out} B_{off} B_{on} c_{B} k_{conf}}$"
      ],
      "text/plain": [
       "A_off*A_on*B_off*B_on*c_B*k_conf*(A_in - A_out)/(A_in*A_off*A_on*B_off**2 + 2*A_in*A_off*A_on*B_off*B_on*c_B + 2*A_in*A_off*A_on*B_off*k_conf + 2*A_in*A_off*A_on*B_on*c_B*k_conf + 2*A_in*A_on**2*A_out*B_off**2 + 4*A_in*A_on**2*A_out*B_off*k_conf + 2*A_in*A_on*B_off*B_on*c_B*k_conf + 2*A_off**2*B_off*B_on*c_B + 2*A_off**2*B_on**2*c_B**2 + A_off*A_on*A_out*B_off**2 + 2*A_off*A_on*A_out*B_off*B_on*c_B + 2*A_off*A_on*A_out*B_off*k_conf + 2*A_off*A_on*A_out*B_on*c_B*k_conf + 4*A_off*B_off*B_on*c_B*k_conf + 4*A_off*B_on**2*c_B**2*k_conf + 2*A_on*A_out*B_off*B_on*c_B*k_conf)"
      ]
     },
     "execution_count": 16,
     "metadata": {},
     "output_type": "execute_result"
    }
   ],
   "source": [
    "G1_sympy_func"
   ]
  },
  {
   "cell_type": "markdown",
   "metadata": {},
   "source": [
    "The net cycle flux expression for the productive cycle of **G2**: "
   ]
  },
  {
   "cell_type": "code",
   "execution_count": 17,
   "metadata": {},
   "outputs": [
    {
     "data": {
      "text/latex": [
       "$\\displaystyle \\frac{A_{off} A_{on} B_{off} B_{on} c_{B} k_{conf}^{2} \\left(A_{in} - A_{out}\\right)}{A_{in} A_{off} A_{on} B_{off}^{2} k_{conf} + A_{in} A_{off} A_{on} B_{off}^{2} k_{leak} + 2 A_{in} A_{off} A_{on} B_{off} B_{on} c_{B} k_{conf} + 2 A_{in} A_{off} A_{on} B_{off} k_{conf}^{2} + 2 A_{in} A_{off} A_{on} B_{off} k_{conf} k_{leak} + 2 A_{in} A_{off} A_{on} B_{on} c_{B} k_{conf}^{2} + 2 A_{in} A_{on}^{2} A_{out} B_{off}^{2} k_{conf} + 4 A_{in} A_{on}^{2} A_{out} B_{off} k_{conf}^{2} + 2 A_{in} A_{on} B_{off}^{2} k_{conf} k_{leak} + 2 A_{in} A_{on} B_{off} B_{on} c_{B} k_{conf}^{2} + 4 A_{in} A_{on} B_{off} k_{conf}^{2} k_{leak} + 2 A_{off}^{2} B_{off}^{2} k_{leak} + 2 A_{off}^{2} B_{off} B_{on} c_{B} k_{conf} + 2 A_{off}^{2} B_{off} B_{on} c_{B} k_{leak} + 4 A_{off}^{2} B_{off} k_{conf} k_{leak} + 2 A_{off}^{2} B_{on}^{2} c_{B}^{2} k_{conf} + 4 A_{off}^{2} B_{on} c_{B} k_{conf} k_{leak} + A_{off} A_{on} A_{out} B_{off}^{2} k_{conf} + A_{off} A_{on} A_{out} B_{off}^{2} k_{leak} + 2 A_{off} A_{on} A_{out} B_{off} B_{on} c_{B} k_{conf} + 2 A_{off} A_{on} A_{out} B_{off} k_{conf}^{2} + 2 A_{off} A_{on} A_{out} B_{off} k_{conf} k_{leak} + 2 A_{off} A_{on} A_{out} B_{on} c_{B} k_{conf}^{2} + 4 A_{off} B_{off}^{2} k_{conf} k_{leak} + 4 A_{off} B_{off} B_{on} c_{B} k_{conf}^{2} + 4 A_{off} B_{off} B_{on} c_{B} k_{conf} k_{leak} + 8 A_{off} B_{off} k_{conf}^{2} k_{leak} + 4 A_{off} B_{on}^{2} c_{B}^{2} k_{conf}^{2} + 8 A_{off} B_{on} c_{B} k_{conf}^{2} k_{leak} + 2 A_{on} A_{out} B_{off}^{2} k_{conf} k_{leak} + 2 A_{on} A_{out} B_{off} B_{on} c_{B} k_{conf}^{2} + 4 A_{on} A_{out} B_{off} k_{conf}^{2} k_{leak}}$"
      ],
      "text/plain": [
       "A_off*A_on*B_off*B_on*c_B*k_conf**2*(A_in - A_out)/(A_in*A_off*A_on*B_off**2*k_conf + A_in*A_off*A_on*B_off**2*k_leak + 2*A_in*A_off*A_on*B_off*B_on*c_B*k_conf + 2*A_in*A_off*A_on*B_off*k_conf**2 + 2*A_in*A_off*A_on*B_off*k_conf*k_leak + 2*A_in*A_off*A_on*B_on*c_B*k_conf**2 + 2*A_in*A_on**2*A_out*B_off**2*k_conf + 4*A_in*A_on**2*A_out*B_off*k_conf**2 + 2*A_in*A_on*B_off**2*k_conf*k_leak + 2*A_in*A_on*B_off*B_on*c_B*k_conf**2 + 4*A_in*A_on*B_off*k_conf**2*k_leak + 2*A_off**2*B_off**2*k_leak + 2*A_off**2*B_off*B_on*c_B*k_conf + 2*A_off**2*B_off*B_on*c_B*k_leak + 4*A_off**2*B_off*k_conf*k_leak + 2*A_off**2*B_on**2*c_B**2*k_conf + 4*A_off**2*B_on*c_B*k_conf*k_leak + A_off*A_on*A_out*B_off**2*k_conf + A_off*A_on*A_out*B_off**2*k_leak + 2*A_off*A_on*A_out*B_off*B_on*c_B*k_conf + 2*A_off*A_on*A_out*B_off*k_conf**2 + 2*A_off*A_on*A_out*B_off*k_conf*k_leak + 2*A_off*A_on*A_out*B_on*c_B*k_conf**2 + 4*A_off*B_off**2*k_conf*k_leak + 4*A_off*B_off*B_on*c_B*k_conf**2 + 4*A_off*B_off*B_on*c_B*k_conf*k_leak + 8*A_off*B_off*k_conf**2*k_leak + 4*A_off*B_on**2*c_B**2*k_conf**2 + 8*A_off*B_on*c_B*k_conf**2*k_leak + 2*A_on*A_out*B_off**2*k_conf*k_leak + 2*A_on*A_out*B_off*B_on*c_B*k_conf**2 + 4*A_on*A_out*B_off*k_conf**2*k_leak)"
      ]
     },
     "execution_count": 17,
     "metadata": {},
     "output_type": "execute_result"
    }
   ],
   "source": [
    "G2_sympy_funcs[1]"
   ]
  },
  {
   "cell_type": "code",
   "execution_count": 18,
   "metadata": {},
   "outputs": [],
   "source": [
    "# print the operational flux for G2 cycle A\n",
    "# simplify(G2_sympy_funcs[1] + G2_sympy_funcs[2])"
   ]
  },
  {
   "cell_type": "markdown",
   "metadata": {},
   "source": [
    "## Error Propagation of Net Cycle Flux/Operational Flux of G1"
   ]
  },
  {
   "cell_type": "markdown",
   "metadata": {},
   "source": [
    "First we need to define a function that can convert the SymPy expression for the **G1** net cycle flux into the expression for the standard error of the net cycle flux."
   ]
  },
  {
   "cell_type": "code",
   "execution_count": 19,
   "metadata": {},
   "outputs": [],
   "source": [
    "def construct_df(f, simplify=False):\n",
    "    \"\"\"\n",
    "    Uses the standard error equation to generate the algebraic expression\n",
    "    for the standard error of an input expression.\n",
    "    \n",
    "    Parameters\n",
    "    ----------\n",
    "    f: SymPy expression\n",
    "    simplify_df: bool\n",
    "    return_lambda: bool\n",
    "    \"\"\"\n",
    "\n",
    "    # retrieve variables from input SymPy expression\n",
    "    variables = [str(v) for v in f.free_symbols]\n",
    "\n",
    "    # generate the SymPy symbols from input variable names\n",
    "    symbols = sympy.symbols(variables)\n",
    "    d_symbols = sympy.symbols(list(\"d_\" + k for k in variables))\n",
    "    \n",
    "    # iterate over each variable (xk) to get the partial derivatives\n",
    "    df = 0\n",
    "    for xk, d_xk in zip(symbols, d_symbols):\n",
    "        # take the partial derivative of f with respect to xk\n",
    "        df_dxk = f.diff(xk)\n",
    "        if simplify:\n",
    "            df_dxk = df_dxk.simplify()\n",
    "        # square the product of the partial derivative and the\n",
    "        # error for xk and add to expression\n",
    "        df += (df_dxk * d_xk) ** 2\n",
    "\n",
    "    # take the square root of the sum\n",
    "    df = sympy.sqrt(df)\n",
    "\n",
    "    return df"
   ]
  },
  {
   "cell_type": "markdown",
   "metadata": {},
   "source": [
    "Construct the SymPy expression for the standard error for the net cycle flux for the productive cycle of **G1**."
   ]
  },
  {
   "cell_type": "code",
   "execution_count": 20,
   "metadata": {},
   "outputs": [],
   "source": [
    "dJ_G1_sympy = construct_df(f=G1_sympy_func)"
   ]
  },
  {
   "cell_type": "markdown",
   "metadata": {},
   "source": [
    "Now simplify the expression by plugging in all constant values, but leaving a constant factor `d_perc` for scaling all standard errors by a relative factor."
   ]
  },
  {
   "cell_type": "code",
   "execution_count": 21,
   "metadata": {},
   "outputs": [],
   "source": [
    "d_perc = sympy.symbols(\"d_perc\")\n",
    "\n",
    "dJ_G1_sympy_simplified = dJ_G1_sympy.subs(\n",
    "    dict(\n",
    "        A_on = 1e10,\n",
    "        A_off = 1e3,\n",
    "        B_on = 1e9,\n",
    "        B_off = 1e2,\n",
    "        k_conf = 100,\n",
    "        A_in = 10**(-6.5),\n",
    "        A_out = 10**(-7.5),\n",
    "        c_B = 10**(-7),\n",
    "        d_A_on = d_perc * 1e10,\n",
    "        d_A_off = d_perc * 1e3,\n",
    "        d_B_on = d_perc * 1e9,\n",
    "        d_B_off = d_perc * 1e2,\n",
    "        d_A_in = d_perc * 10**(-6.5),\n",
    "        d_A_out = d_perc * 10**(-7.5),\n",
    "        d_c_B = d_perc * 10**(-7),\n",
    "    ),\n",
    ")"
   ]
  },
  {
   "cell_type": "markdown",
   "metadata": {},
   "source": [
    "Now we have a function to calculate the standard error of **J_G1** as a function of the error for the conformational change rate, **d_k_conf**, and the relative error of all other parameters, **d_perc**."
   ]
  },
  {
   "cell_type": "code",
   "execution_count": 22,
   "metadata": {},
   "outputs": [],
   "source": [
    "val_dict = {\n",
    "    \"A_on\": 1e10,\n",
    "    \"A_off\": 1e3, \n",
    "    \"B_on\": 1e9, \n",
    "    \"B_off\": 1e2,\n",
    "    \"k_conf\": 1e2,\n",
    "    \"c_B\": 10**(-7),\n",
    "    \"A_in\": 10**(-6.5), \n",
    "    \"A_out\": 10**(-7.5),\n",
    "}\n",
    "J_G1 = float(G1_sympy_func.subs(val_dict))"
   ]
  },
  {
   "cell_type": "code",
   "execution_count": 23,
   "metadata": {},
   "outputs": [],
   "source": [
    "dJ_lambda = sympy.lambdify([\"d_k_conf\", \"d_perc\"], dJ_G1_sympy_simplified)"
   ]
  },
  {
   "cell_type": "code",
   "execution_count": 24,
   "metadata": {},
   "outputs": [],
   "source": [
    "rel_errors = np.arange(0, 10, 2) / 10\n",
    "d_k_conf_arr = np.arange(0, 91)\n",
    "\n",
    "dJ_arr = np.zeros((rel_errors.size, d_k_conf_arr.size))\n",
    "for i, rel_err in enumerate(rel_errors):\n",
    "    for j, d_kc in enumerate(d_k_conf_arr):\n",
    "        dJ_arr[i, j] = dJ_lambda(d_k_conf=d_kc, d_perc=rel_err)"
   ]
  },
  {
   "cell_type": "code",
   "execution_count": 25,
   "metadata": {},
   "outputs": [],
   "source": [
    "J_perc_err = 100 * (dJ_arr / J_G1)\n",
    "k_conf_perc_err = 100 * (d_k_conf_arr / val_dict[\"k_conf\"])"
   ]
  },
  {
   "cell_type": "code",
   "execution_count": 26,
   "metadata": {},
   "outputs": [],
   "source": [
    "def plot_dJ_vs_d_k_conf(k_conf_perc_err, J_perc_err, rel_errors):\n",
    "\n",
    "    fig = plt.figure(figsize=(4, 3), tight_layout=True)\n",
    "    ax = fig.add_subplot(111)\n",
    "\n",
    "#     ax.plot(np.arange(0, 100), np.arange(0, 100), ls=\"--\", color=\"black\")\n",
    "    \n",
    "    for i, rel_err in enumerate(rel_errors):\n",
    "        ax.plot(k_conf_perc_err, J_perc_err[i], lw=2, label=f\"{100*rel_err:.0f}%\")\n",
    "    \n",
    "    ax.set_xlabel(r\"$\\delta k_{conf}$ (%)\")\n",
    "    ax.set_ylabel(r\"$\\delta J$ (%)\")\n",
    "    ax.set_title(r\"G1 Error Propagation\")\n",
    "\n",
    "    ax.set_xlim(0, 100)\n",
    "    ax.set_ylim(0, 100)\n",
    "    ax.grid(True)\n",
    "    \n",
    "    # custom handling to reverse the legend order\n",
    "    handles, labels = ax.get_legend_handles_labels()\n",
    "    ax.legend(handles[::-1], labels[::-1], bbox_to_anchor=(1, 1), title=r\"$\\delta_{perc}$\")\n",
    "    \n",
    "    return fig"
   ]
  },
  {
   "cell_type": "code",
   "execution_count": 27,
   "metadata": {},
   "outputs": [
    {
     "data": {
      "image/png": "[encoded data removed]",
      "text/plain": [
       "<Figure size 288x216 with 1 Axes>"
      ]
     },
     "metadata": {
      "needs_background": "light"
     },
     "output_type": "display_data"
    }
   ],
   "source": [
    "err_fig = plot_dJ_vs_d_k_conf(k_conf_perc_err, J_perc_err, rel_errors)"
   ]
  },
  {
   "cell_type": "code",
   "execution_count": 28,
   "metadata": {},
   "outputs": [],
   "source": [
    "err_fig.savefig(\"dJ_vs_dk_conf.png\", dpi=300)"
   ]
  },
  {
   "cell_type": "markdown",
   "metadata": {},
   "source": [
    "## Operational Fluxes"
   ]
  },
  {
   "cell_type": "markdown",
   "metadata": {},
   "source": [
    "Convert the net cycle flux functions for G1 and G2 into Python lambda functions."
   ]
  },
  {
   "cell_type": "code",
   "execution_count": 29,
   "metadata": {},
   "outputs": [],
   "source": [
    "G1_net_cycle_flux_func = expressions.construct_lambda_funcs(G1_sympy_func, rate_names1)\n",
    "G2_net_cycle_flux_funcs = expressions.construct_lambda_funcs(G2_sympy_funcs, rate_names2)"
   ]
  },
  {
   "cell_type": "markdown",
   "metadata": {},
   "source": [
    "Set parameters:"
   ]
  },
  {
   "cell_type": "code",
   "execution_count": 30,
   "metadata": {},
   "outputs": [],
   "source": [
    "A_on = 1e10\n",
    "A_off = 1e3\n",
    "B_on = 1e9\n",
    "B_off = 1e2\n",
    "k_conf = 100\n",
    "A_in = 10**(-6.5)\n",
    "A_out = 10**(-7.5)\n",
    "c_B = 10**(-7)"
   ]
  },
  {
   "cell_type": "markdown",
   "metadata": {},
   "source": [
    "Create array of leakage values:"
   ]
  },
  {
   "cell_type": "code",
   "execution_count": 31,
   "metadata": {},
   "outputs": [],
   "source": [
    "# set min/max order of magnitude\n",
    "power_min = -3\n",
    "power_max = 2\n",
    "steps = 100\n",
    "leak_arr = np.logspace(power_min, power_max, steps)"
   ]
  },
  {
   "cell_type": "markdown",
   "metadata": {},
   "source": [
    "Create an array for the net cycle flux for G1, but the same length as the leakage array (for plotting)."
   ]
  },
  {
   "cell_type": "code",
   "execution_count": 32,
   "metadata": {},
   "outputs": [],
   "source": [
    "G1_flux = G1_net_cycle_flux_func(A_on, A_off, B_on, B_off, k_conf, A_in, A_out, c_B)\n",
    "G1_flux_arr = np.ones((steps,)) * G1_flux"
   ]
  },
  {
   "cell_type": "markdown",
   "metadata": {},
   "source": [
    "Create the net cycle flux arrays for G2. Let's print the cycles that were used to construct the net cycle flux functions first."
   ]
  },
  {
   "cell_type": "code",
   "execution_count": 33,
   "metadata": {},
   "outputs": [
    {
     "name": "stdout",
     "output_type": "stream",
     "text": [
      "[[0, 5, 4, 3], [0, 5, 4, 3, 2, 1], [0, 3, 2, 1]]\n"
     ]
    }
   ],
   "source": [
    "print(G2_cycles_reordered)"
   ]
  },
  {
   "cell_type": "markdown",
   "metadata": {},
   "source": [
    "Let's now assign the indices for each cycle, for later use."
   ]
  },
  {
   "cell_type": "code",
   "execution_count": 34,
   "metadata": {},
   "outputs": [],
   "source": [
    "G2_cycle_A_idx = 2\n",
    "G2_cycle_B_idx = 0\n",
    "G2_cycle_prod_idx = 1"
   ]
  },
  {
   "cell_type": "code",
   "execution_count": 35,
   "metadata": {},
   "outputs": [],
   "source": [
    "G2_flux = []\n",
    "for k_leak in leak_arr:\n",
    "    G2_fluxes = []\n",
    "    for func in G2_net_cycle_flux_funcs:\n",
    "        G2_fluxes.append(func(A_on, A_off, B_on, B_off, k_conf, k_leak, A_in, A_out, c_B))\n",
    "    G2_flux.append(G2_fluxes)\n",
    "G2_flux = np.array(G2_flux)"
   ]
  },
  {
   "cell_type": "code",
   "execution_count": 36,
   "metadata": {},
   "outputs": [],
   "source": [
    "# assign arrays more useful variable names\n",
    "G2_productive_cycle_flux_arr = G2_flux[:, G2_cycle_prod_idx]\n",
    "G2_cycle_A_flux_arr = G2_flux[:, G2_cycle_A_idx]\n",
    "G2_cycle_B_flux_arr = G2_flux[:, G2_cycle_B_idx]\n",
    "# calculate the operational fluxes for cycles A and B for G2\n",
    "A_flux_arr = G2_productive_cycle_flux_arr + G2_cycle_A_flux_arr\n",
    "B_flux_arr = G2_productive_cycle_flux_arr + G2_cycle_B_flux_arr"
   ]
  },
  {
   "cell_type": "code",
   "execution_count": 37,
   "metadata": {},
   "outputs": [],
   "source": [
    "def plot_stacked_flux_fig(leak_arr, G1_flux_arr, G2_productive_cycle_flux_arr, A_flux_arr, B_flux_arr):\n",
    "    \"\"\"\n",
    "    Custom plotting function for plotting the net cycle flux,\n",
    "    operational fluxes, and stoichiometry for both G1 and G2.\n",
    "    \"\"\"\n",
    "    fig, axs = plt.subplots(3, figsize=(5, 5), sharex=True, tight_layout=True)\n",
    "\n",
    "    axs[0].semilogx(leak_arr, G1_flux_arr, '--', lw=2, color=\"black\", label=\"G1\")\n",
    "    axs[0].semilogx(leak_arr, G2_productive_cycle_flux_arr, '-', lw=2, color=\"orange\", label=\"G2\")\n",
    "    axs[0].set_title(\"Net Cycle Flux: Productive Cycle\")\n",
    "    axs[0].set_ylabel(r\"Flux ($s^{-1}$)\")\n",
    "    axs[0].set_ylim(0, 10)\n",
    "    axs[0].legend(bbox_to_anchor=(1, 1))\n",
    "    axs[0].grid(True)\n",
    "\n",
    "    axs[1].semilogx(leak_arr, G1_flux_arr, '--', lw=2, color=\"black\", label=\"G1\")\n",
    "    axs[1].semilogx(leak_arr, A_flux_arr, '-', color='red', lw=2, label=r\"G2$_{A}$\")\n",
    "    axs[1].semilogx(leak_arr, B_flux_arr, '-', color='blue', lw=2, label=r\"G2$_{B}$\")\n",
    "    axs[1].set_title(\"Operational Flux\")\n",
    "    axs[1].set_ylabel(r\"Flux ($s^{-1}$)\")\n",
    "    axs[1].set_ylim(0, 20)\n",
    "    axs[1].legend(bbox_to_anchor=(1, 1))\n",
    "    axs[1].grid(True)\n",
    "\n",
    "    axs[2].axhline(y=1, ls='--', color='black', label=\"G1\")\n",
    "    axs[2].semilogx(leak_arr, B_flux_arr/A_flux_arr, '-', lw=2, color=\"orange\", label=\"G2\")\n",
    "    axs[2].set_title(\"Stoichiometry: Substrate/Driving Ion\")\n",
    "    axs[2].set_xlabel(r\"$k_{leak}$ ($s^{-1}$)\")\n",
    "    axs[2].set_ylim(0, 1.1)\n",
    "    axs[2].legend(bbox_to_anchor=(1, 1))\n",
    "    axs[2].grid(True)\n",
    "\n",
    "    axs[0].set_xlim(leak_arr[0], leak_arr[-1])\n",
    "    return fig"
   ]
  },
  {
   "cell_type": "code",
   "execution_count": 38,
   "metadata": {},
   "outputs": [],
   "source": [
    "def draw_cycles_custom(\n",
    "    G,\n",
    "    cycles,\n",
    "    pos=None,\n",
    "    panel_scale=2,\n",
    "    rows=None,\n",
    "    cols=None,\n",
    "    font_size=12,\n",
    "    cbt=False,\n",
    "    curved_arrows=False):\n",
    "    \"\"\"\n",
    "    Custom cycle plotting function based on the `kda.plotting.draw_cycles` function.\n",
    "    \"\"\"\n",
    "\n",
    "    if curved_arrows:\n",
    "        connection_style = \"arc3, rad = 0.11\"\n",
    "    else:\n",
    "        connection_style = \"arc3\"\n",
    "\n",
    "    nrows, ncols, excess_plots = plotting._get_panel_dimensions(n_diagrams=len(cycles), rows=rows, cols=cols)\n",
    "\n",
    "    fig, ax = plt.subplots(nrows=nrows, ncols=ncols, tight_layout=True)\n",
    "    fig.set_figheight(nrows * panel_scale)\n",
    "    fig.set_figwidth(1.2 * ncols * panel_scale)\n",
    "\n",
    "    xlims, ylims = plotting._get_axis_limits(pos, scale_factor=1.4)\n",
    "\n",
    "    for i, cycle in enumerate(cycles):\n",
    "        node_labels = plotting._get_node_labels(node_list=cycle)\n",
    "        node_colors = plotting._get_node_colors(cbt=cbt, obj=cycle)\n",
    "        cycle_edges = plotting._construct_cycle_edges(cycle)\n",
    "        edge_list = plotting._append_reverse_edges(cycle_edges)\n",
    "\n",
    "        ix = np.unravel_index(i, ax.shape)\n",
    "        plt.sca(ax[ix])\n",
    "        ax[ix].set_xlim(xlims)\n",
    "        ax[ix].set_ylim(ylims)\n",
    "\n",
    "        plotting._plot_single_diagram(\n",
    "            diagram=G,\n",
    "            pos=pos,\n",
    "            edge_list=edge_list,\n",
    "            node_list=cycle,\n",
    "            node_labels=node_labels,\n",
    "            node_colors=node_colors,\n",
    "            node_size=150 * panel_scale,\n",
    "            font_size=font_size,\n",
    "            arrow_width=1.5,\n",
    "            cbt=False,\n",
    "            connection_style=connection_style,\n",
    "            ax=ax[ix],\n",
    "        )\n",
    "\n",
    "    for j in range(excess_plots):\n",
    "        ax.flat[-j - 1].set_visible(False)\n",
    "    return fig"
   ]
  },
  {
   "cell_type": "code",
   "execution_count": 39,
   "metadata": {},
   "outputs": [
    {
     "data": {
      "image/png": "[encoded data removed]",
      "text/plain": [
       "<Figure size 360x360 with 3 Axes>"
      ]
     },
     "metadata": {
      "needs_background": "light"
     },
     "output_type": "display_data"
    }
   ],
   "source": [
    "stacked_fig = plot_stacked_flux_fig(leak_arr, G1_flux_arr, G2_productive_cycle_flux_arr, A_flux_arr, B_flux_arr)"
   ]
  },
  {
   "cell_type": "code",
   "execution_count": 40,
   "metadata": {},
   "outputs": [
    {
     "data": {
      "image/png": "[encoded data removed]",
      "text/plain": [
       "<Figure size 453.6x126 with 3 Axes>"
      ]
     },
     "metadata": {},
     "output_type": "display_data"
    }
   ],
   "source": [
    "cycle_fig = draw_cycles_custom(G2, G2_cycles_reordered, pos=pos, panel_scale=1.75, font_size=12, curved_arrows=True)"
   ]
  },
  {
   "cell_type": "code",
   "execution_count": 41,
   "metadata": {},
   "outputs": [],
   "source": [
    "stacked_fig.savefig(cwd+\"/6wl_all_in_one_plot.png\", dpi=300)"
   ]
  },
  {
   "cell_type": "markdown",
   "metadata": {},
   "source": [
    "## Operational Fluxes from Net Transition Fluxes"
   ]
  },
  {
   "cell_type": "markdown",
   "metadata": {},
   "source": [
    "We know the operational fluxes can be expressed in terms of net transition fluxes:\n",
    "\n",
    "$\\begin{flalign}\n",
    "    J_{\\text{H}^{+}}   &= J_{1,2} = J_{2,3} = J_{3,4}\\\\ \n",
    "    J_{\\text{Na}^{+}}  &= J_{6,1} = J_{5,6} = J_{4,5}.\n",
    "\\end{flalign}$\n",
    "\n",
    "We will just focus on a single net transition flux for each ligand. Expressed in terms of one-way transition fluxes:\n",
    "\n",
    "$\\begin{flalign}\n",
    "    J_{\\text{H}^{+}}   &= J_{2,3} = j_{2, 3} - j_{3, 2} = p_2 k_{2, 3} - p_3 k_{3, 2}\\\\ \n",
    "    J_{\\text{Na}^{+}}  &= J_{5,6} = j_{5, 6} - j_{6, 5} = p_5 k_{5, 6} - p_6 k_{6, 5}.\n",
    "\\end{flalign}$"
   ]
  },
  {
   "cell_type": "code",
   "execution_count": 56,
   "metadata": {},
   "outputs": [],
   "source": [
    "H_on, H_off, Na_on, Na_off, k_conf, k_leak,  H_in, H_out, c_Na = sympy.symbols(\n",
    "    \"H_on, H_off, Na_on, Na_off, k_conf, k_leak,  H_in, H_out, c_Na\")\n",
    "k12, k21, k23, k32, k34, k43, k45, k54, k56, k65, k61, k16, k14, k41 = sympy.symbols(\n",
    "    \"k12 k21 k23 k32 k34 k43 k45 k54 k56 k65 k61 k16 k14, k41\")\n",
    "sub_map = {\n",
    "    k12 : H_on*H_out,\n",
    "    k21 : H_off,\n",
    "    k23 : k_conf,\n",
    "    k32 : k_conf,\n",
    "    k34 : H_off,\n",
    "    k43 : H_on*H_in,\n",
    "    k45 : Na_on*c_Na,\n",
    "    k54 : Na_off,\n",
    "    k56 : k_conf,\n",
    "    k65 : k_conf,\n",
    "    k61 : Na_off,\n",
    "    k16 : Na_on*c_Na,\n",
    "    k14 : k_leak, \n",
    "    k41 : k_leak,\n",
    "}"
   ]
  },
  {
   "cell_type": "code",
   "execution_count": 74,
   "metadata": {},
   "outputs": [],
   "source": [
    "G2_prob_strs = calculations.calc_state_probs(G2, key='name', output_strings=True)\n",
    "p1, p2, p3, p4, p5, p6 = G2_prob_strs\n",
    "J_H_trans = (p1.subs(sub_map) * sub_map[k12] - p2.subs(sub_map) * sub_map[k21]).simplify()\n",
    "J_Na_trans = (p6.subs(sub_map) * sub_map[k61] - p1.subs(sub_map) * sub_map[k16]).simplify()"
   ]
  },
  {
   "cell_type": "markdown",
   "metadata": {},
   "source": [
    "With the operational flux expressions defined in terms of net transition fluxes, lets create the operational fluxes using the cycles method."
   ]
  },
  {
   "cell_type": "code",
   "execution_count": 75,
   "metadata": {},
   "outputs": [
    {
     "name": "stdout",
     "output_type": "stream",
     "text": [
      "Cycle [0, 5, 4, 3, 2, 1] contains all nodes in G. No flux diagrams generated.\n",
      "No flux diagrams detected for cycle [0, 5, 4, 3, 2, 1]. Sigma K value is 1.\n"
     ]
    }
   ],
   "source": [
    "cycle_labels = [\"c\", \"b\", \"a\"]\n",
    "cycle_orders = [[0, 1], [5, 0], [0, 1]]\n",
    "\n",
    "G2_cycles_dict = {}\n",
    "for label, _cycle, _order in zip(cycle_labels, G2_cycles, cycle_orders):\n",
    "    func = calculations.calc_net_cycle_flux(G2, cycle=_cycle, order=_order, key='name', output_strings=True)\n",
    "    func = func.subs(sub_map).simplify()\n",
    "    G2_cycles_dict[label] = {\"cycle\": cycle, \"order\": order, \"func\": func}"
   ]
  },
  {
   "cell_type": "code",
   "execution_count": 76,
   "metadata": {},
   "outputs": [],
   "source": [
    "J_a = G2_cycles_dict[\"a\"][\"func\"]\n",
    "J_b = G2_cycles_dict[\"b\"][\"func\"]\n",
    "J_c = G2_cycles_dict[\"c\"][\"func\"]\n",
    "\n",
    "J_H_cycle = (J_a + J_c).simplify()\n",
    "J_Na_cycle = (J_b + J_c).simplify()"
   ]
  },
  {
   "cell_type": "markdown",
   "metadata": {},
   "source": [
    "We can check if the expressions are identical by taking their difference and simplifying. "
   ]
  },
  {
   "cell_type": "code",
   "execution_count": 77,
   "metadata": {},
   "outputs": [
    {
     "data": {
      "text/plain": [
       "True"
      ]
     },
     "execution_count": 77,
     "metadata": {},
     "output_type": "execute_result"
    }
   ],
   "source": [
    "(J_H_trans - J_H_cycle).simplify() == 0"
   ]
  },
  {
   "cell_type": "code",
   "execution_count": 78,
   "metadata": {},
   "outputs": [
    {
     "data": {
      "text/plain": [
       "True"
      ]
     },
     "execution_count": 78,
     "metadata": {},
     "output_type": "execute_result"
    }
   ],
   "source": [
    "(J_Na_trans - J_Na_cycle).simplify() == 0"
   ]
  },
  {
   "cell_type": "code",
   "execution_count": 79,
   "metadata": {},
   "outputs": [],
   "source": [
    "rate_names = [\"H_on, H_off, Na_on, Na_off, k_conf, k_leak, H_in, H_out, c_Na\"]\n",
    "J_H_t_lambda, J_Na_t_lambda = expressions.construct_lambda_funcs([J_H_trans, J_Na_trans], rate_names)"
   ]
  },
  {
   "cell_type": "code",
   "execution_count": 80,
   "metadata": {},
   "outputs": [
    {
     "data": {
      "text/plain": [
       "<function _lambdifygenerated(H_on, H_off, Na_on, Na_off, k_conf, k_leak, H_in, H_out, c_Na)>"
      ]
     },
     "execution_count": 80,
     "metadata": {},
     "output_type": "execute_result"
    }
   ],
   "source": [
    "J_H_t_lambda"
   ]
  },
  {
   "cell_type": "code",
   "execution_count": 81,
   "metadata": {},
   "outputs": [],
   "source": [
    "H_on = 1.12e10\n",
    "H_off = 1.775e3\n",
    "Na_on = 3.011e9\n",
    "Na_off = 9.0e3e7\n",
    "k_conf = 69\n",
    "H_in = 10**(-6.5)\n",
    "H_out = 10**(-7.5)\n",
    "c_Na = 10**(-7)\n",
    "# set min/max order of magnitude\n",
    "leak_arr = [0.01, 1, 100]"
   ]
  },
  {
   "cell_type": "code",
   "execution_count": 82,
   "metadata": {},
   "outputs": [
    {
     "name": "stdout",
     "output_type": "stream",
     "text": [
      "0.01 -7.94161225894401 -7.939230489797074\n",
      "1 -8.117056059274603 -7.8806369507520415\n",
      "100 -18.13698894627937 -4.5342472365698425\n"
     ]
    }
   ],
   "source": [
    "for kleak in leak_arr:\n",
    "    JH = J_H_t_lambda(A_on, A_off, B_on, B_off, k_conf, kleak, A_in, A_out, c_B)\n",
    "    JNa = J_Na_t_lambda(A_on, A_off, B_on, B_off, k_conf, kleak, A_in, A_out, c_B)\n",
    "    print(kleak, JH, JNa)"
   ]
  },
  {
   "cell_type": "code",
   "execution_count": null,
   "metadata": {},
   "outputs": [],
   "source": []
  }
 ],
 "metadata": {
  "kernelspec": {
   "display_name": "Python 3",
   "language": "python",
   "name": "python3"
  },
  "language_info": {
   "codemirror_mode": {
    "name": "ipython",
    "version": 3
   },
   "file_extension": ".py",
   "mimetype": "text/x-python",
   "name": "python",
   "nbconvert_exporter": "python",
   "pygments_lexer": "ipython3",
   "version": "3.7.4"
  }
 },
 "nbformat": 4,
 "nbformat_minor": 4
}
