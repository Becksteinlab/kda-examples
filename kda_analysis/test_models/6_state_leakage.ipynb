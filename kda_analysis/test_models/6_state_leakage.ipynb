{
 "cells": [
  {
   "cell_type": "markdown",
   "metadata": {},
   "source": [
    "# 6 State Model Net Cycle Flux Testing"
   ]
  },
  {
   "cell_type": "code",
   "execution_count": 1,
   "metadata": {},
   "outputs": [],
   "source": [
    "import os\n",
    "import sys\n",
    "import numpy as np\n",
    "import networkx as nx\n",
    "import matplotlib\n",
    "from mpl_toolkits.mplot3d import Axes3D\n",
    "import matplotlib.pyplot as plt\n",
    "from sympy import *\n",
    "import time\n",
    "from sympy.parsing.sympy_parser import parse_expr\n",
    "\n",
    "from kda import plotting, graph_utils, calculations, diagrams, expressions, ode"
   ]
  },
  {
   "cell_type": "code",
   "execution_count": 2,
   "metadata": {},
   "outputs": [],
   "source": [
    "kvals1 = np.array(\n",
    "    [\n",
    "        [0, 1, 0, 0, 0, 1],\n",
    "        [1, 0, 1, 0, 0, 0],\n",
    "        [0, 1, 0, 1, 0, 0],\n",
    "        [0, 0, 1, 0, 1, 0],\n",
    "        [0, 0, 0, 1, 0, 1],\n",
    "        [1, 0, 0, 0, 1, 0],\n",
    "    ]\n",
    ")\n",
    "kvals2 = np.array(\n",
    "    [\n",
    "        [0, 1, 0, 1, 0, 1],\n",
    "        [1, 0, 1, 0, 0, 0],\n",
    "        [0, 1, 0, 1, 0, 0],\n",
    "        [1, 0, 1, 0, 1, 0],\n",
    "        [0, 0, 0, 1, 0, 1],\n",
    "        [1, 0, 0, 0, 1, 0],\n",
    "    ]\n",
    ")\n",
    "\n",
    "G1 = nx.MultiDiGraph()\n",
    "graph_utils.generate_edges(G1, kvals1)\n",
    "G2 = nx.MultiDiGraph()\n",
    "graph_utils.generate_edges(G2, kvals2)\n",
    "\n",
    "pos = {}\n",
    "offset = (np.pi / 2)\n",
    "for i in range(6):\n",
    "    theta = offset - i * (np.pi / 3)\n",
    "    pos[i] = [np.cos(theta), np.sin(theta)]\n",
    "\n",
    "cwd = os.getcwd()"
   ]
  },
  {
   "cell_type": "code",
   "execution_count": 3,
   "metadata": {},
   "outputs": [],
   "source": [
    "plotting.draw_diagrams(G1, pos=pos, font_size=12, path=cwd, label=\"6_state_diagram\", curved_arrows=True)\n",
    "plotting.draw_diagrams(G2, pos=pos, font_size=12, path=cwd, label=\"6_state_leakage_diagram\", curved_arrows=True)"
   ]
  },
  {
   "cell_type": "code",
   "execution_count": 4,
   "metadata": {},
   "outputs": [
    {
     "name": "stderr",
     "output_type": "stream",
     "text": [
      "findfont: Font family ['Helvetica'] not found. Falling back to DejaVu Sans.\n",
      "findfont: Font family ['Helvetica'] not found. Falling back to DejaVu Sans.\n"
     ]
    }
   ],
   "source": [
    "sol = ode.ode_solver(np.array([1/3, 1/3, 1/3, 0, 0, 0]), kvals1, t_max=8)\n",
    "plotting.draw_ode_results(sol, path=cwd, label=\"6_state_ode_solution\")"
   ]
  },
  {
   "cell_type": "code",
   "execution_count": 5,
   "metadata": {},
   "outputs": [],
   "source": [
    "pars = diagrams.generate_partial_diagrams(G2)\n",
    "plotting.draw_diagrams(pars, pos=pos, panel=True, panel_scale=1.75, rows=1, font_size=12, path=cwd, label=\"6wl_partial_diagrams\")\n",
    "\n",
    "dirpars = diagrams.generate_directional_diagrams(G2)\n",
    "plotting.draw_diagrams(dirpars, pos=pos, panel=True, panel_scale=1.75, rows=6, font_size=12, cbt=True, path=cwd, label=\"6wl_directional_diagrams\")"
   ]
  },
  {
   "cell_type": "code",
   "execution_count": 6,
   "metadata": {},
   "outputs": [],
   "source": [
    "G1_cycle = graph_utils.find_all_unique_cycles(G1)[0]\n",
    "G2_cycles = graph_utils.find_all_unique_cycles(G2)\n",
    "\n",
    "# pick positive direction\n",
    "G1_order = [1, 0]\n",
    "G2_orders = [[0, 5], [1, 0], [1, 0]]"
   ]
  },
  {
   "cell_type": "code",
   "execution_count": 7,
   "metadata": {},
   "outputs": [],
   "source": [
    "G2_cycles_reordered = [G2_cycles[1], G2_cycles[0], G2_cycles[2]]"
   ]
  },
  {
   "cell_type": "code",
   "execution_count": 8,
   "metadata": {},
   "outputs": [],
   "source": [
    "plotting.draw_cycles(G2, G2_cycles_reordered, pos=pos, panel=True, panel_scale=1.75, font_size=12, path=cwd, label=\"6wl_cycles\", curved_arrows=True, cbt=True)"
   ]
  },
  {
   "cell_type": "code",
   "execution_count": 9,
   "metadata": {},
   "outputs": [],
   "source": [
    "rate_names1 = [\"A_on, A_off, B_on, B_off, k_conf, A_in, A_out, c_B\"]\n",
    "A_on, A_off, B_on, B_off, k_conf, A_in, A_out, c_B = symbols('A_on A_off B_on B_off k_conf A_in A_out c_B')\n",
    "k12, k21, k23, k32, k34, k43, k45, k54, k56, k65, k61, k16 = symbols(\"k12 k21 k23 k32 k34 k43 k45 k54 k56 k65 k61 k16\")\n",
    "sub_dict1 = {k12 : A_on*A_out,\n",
    "            k21 : A_off,\n",
    "            k23 : k_conf,\n",
    "            k32 : k_conf,\n",
    "            k34 : A_off,\n",
    "            k43 : A_on*A_in,\n",
    "            k45 : B_on*c_B,\n",
    "            k54 : B_off,\n",
    "            k56 : k_conf,\n",
    "            k65 : k_conf,\n",
    "            k61 : B_off,\n",
    "            k16 : B_on*c_B}\n",
    "\n",
    "A_on = 1e10\n",
    "A_off = 1e3\n",
    "B_on = 1e9\n",
    "B_off = 1e2\n",
    "A_in = 10**(-6.5)\n",
    "A_out = 10**(-7.5)\n",
    "c_B = 10**(-8)\n",
    "\n",
    "rate_names1s = [\"k_conf\"]\n",
    "k_conf = symbols('k_conf')\n",
    "k12, k21, k23, k32, k34, k43, k45, k54, k56, k65, k61, k16 = symbols(\"k12 k21 k23 k32 k34 k43 k45 k54 k56 k65 k61 k16\")\n",
    "sub_dict1s = {k12 : A_on*A_out,\n",
    "            k21 : A_off,\n",
    "            k23 : k_conf,\n",
    "            k32 : k_conf,\n",
    "            k34 : A_off,\n",
    "            k43 : A_on*A_in,\n",
    "            k45 : B_on*c_B,\n",
    "            k54 : B_off,\n",
    "            k56 : k_conf,\n",
    "            k65 : k_conf,\n",
    "            k61 : B_off,\n",
    "            k16 : B_on*c_B}"
   ]
  },
  {
   "cell_type": "code",
   "execution_count": 10,
   "metadata": {},
   "outputs": [],
   "source": [
    "rate_names2 = [\"A_on, A_off, B_on, B_off, k_conf, k_leak, A_in, A_out, c_B\"]\n",
    "A_on, A_off, B_on, B_off, k_conf, k_leak,  A_in, A_out, c_B = symbols('A_on A_off B_on B_off k_conf k_leak A_in A_out c_B')\n",
    "k12, k21, k23, k32, k34, k43, k45, k54, k56, k65, k61, k16, k14, k41 = symbols(\"k12 k21 k23 k32 k34 k43 k45 k54 k56 k65 k61 k16 k14, k41\")\n",
    "sub_dict2 = {k12 : A_on*A_out,\n",
    "            k21 : A_off,\n",
    "            k23 : k_conf,\n",
    "            k32 : k_conf,\n",
    "            k34 : A_off,\n",
    "            k43 : A_on*A_in,\n",
    "            k45 : B_on*c_B,\n",
    "            k54 : B_off,\n",
    "            k56 : k_conf,\n",
    "            k65 : k_conf,\n",
    "            k61 : B_off,\n",
    "            k16 : B_on*c_B,\n",
    "            k14 : k_leak, \n",
    "            k41 : k_leak}\n",
    "\n",
    "A_on = 1e10\n",
    "A_off = 1e3\n",
    "B_on = 1e9\n",
    "B_off = 1e2\n",
    "A_in = 10**(-6.5)\n",
    "A_out = 10**(-7.5)\n",
    "c_B = 10**(-8)\n",
    "\n",
    "rate_names2s = [\"k_conf, k_leak\"]\n",
    "k_conf, k_leak = symbols('k_conf k_leak')\n",
    "k12, k21, k23, k32, k34, k43, k45, k54, k56, k65, k61, k16, k14, k41 = symbols(\"k12 k21 k23 k32 k34 k43 k45 k54 k56 k65 k61 k16 k14 k41\")\n",
    "sub_dict2s = {k12 : A_on*A_out,\n",
    "            k21 : A_off,\n",
    "            k23 : k_conf,\n",
    "            k32 : k_conf,\n",
    "            k34 : A_off,\n",
    "            k43 : A_on*A_in,\n",
    "            k45 : B_on*c_B,\n",
    "            k54 : B_off,\n",
    "            k56 : k_conf,\n",
    "            k65 : k_conf,\n",
    "            k61 : B_off,\n",
    "            k16 : B_on*c_B,\n",
    "            k14 : k_leak, \n",
    "            k41 : k_leak}"
   ]
  },
  {
   "cell_type": "code",
   "execution_count": 11,
   "metadata": {},
   "outputs": [
    {
     "name": "stdout",
     "output_type": "stream",
     "text": [
      "Cycle [0, 5, 4, 3, 2, 1] contains all nodes in G. No flux diagrams generated.\n",
      "No flux diagrams detected for cycle [0, 5, 4, 3, 2, 1]. Sigma K value is 1.\n",
      "Cycle [0, 5, 4, 3, 2, 1] contains all nodes in G. No flux diagrams generated.\n",
      "No flux diagrams detected for cycle [0, 5, 4, 3, 2, 1]. Sigma K value is 1.\n"
     ]
    }
   ],
   "source": [
    "G1_cycle_flux_str = calculations.calc_net_cycle_flux(G1, G1_cycle, order=G1_order, key='name', output_strings=True)\n",
    "\n",
    "G2_cycle_flux_strs = []\n",
    "for cycle, order in zip(G2_cycles_reordered, G2_orders):\n",
    "    func = calculations.calc_net_cycle_flux(G2, cycle, order=order, key='name', output_strings=True)\n",
    "    G2_cycle_flux_strs.append(func)"
   ]
  },
  {
   "cell_type": "code",
   "execution_count": 12,
   "metadata": {},
   "outputs": [],
   "source": [
    "G1_prob_strs = calculations.calc_state_probs(G1, key='name', output_strings=True)\n",
    "G2_prob_strs = calculations.calc_state_probs(G2, key='name', output_strings=True)"
   ]
  },
  {
   "cell_type": "markdown",
   "metadata": {},
   "source": [
    "## Before Simplifications"
   ]
  },
  {
   "cell_type": "code",
   "execution_count": 13,
   "metadata": {},
   "outputs": [
    {
     "data": {
      "text/latex": [
       "$\\displaystyle \\frac{k_{12} k_{23} k_{34} k_{45} k_{56} + k_{14} k_{21} k_{32} k_{45} k_{56} + k_{14} k_{21} k_{34} k_{45} k_{56} + k_{14} k_{23} k_{34} k_{45} k_{56} + k_{16} k_{21} k_{32} k_{41} k_{54} + k_{16} k_{21} k_{32} k_{41} k_{56} + k_{16} k_{21} k_{32} k_{43} k_{54} + k_{16} k_{21} k_{32} k_{43} k_{56} + k_{16} k_{21} k_{32} k_{45} k_{56} + k_{16} k_{21} k_{34} k_{41} k_{54} + k_{16} k_{21} k_{34} k_{41} k_{56} + k_{16} k_{21} k_{34} k_{45} k_{56} + k_{16} k_{23} k_{34} k_{41} k_{54} + k_{16} k_{23} k_{34} k_{41} k_{56} + k_{16} k_{23} k_{34} k_{45} k_{56}}{k_{12} k_{23} k_{34} k_{45} k_{56} + k_{12} k_{23} k_{34} k_{45} k_{61} + k_{12} k_{23} k_{34} k_{45} k_{65} + k_{12} k_{23} k_{34} k_{54} k_{61} + k_{12} k_{23} k_{34} k_{54} k_{65} + k_{12} k_{23} k_{34} k_{56} k_{61} + k_{12} k_{23} k_{41} k_{54} k_{61} + k_{12} k_{23} k_{41} k_{54} k_{65} + k_{12} k_{23} k_{41} k_{56} k_{61} + k_{12} k_{23} k_{43} k_{54} k_{61} + k_{12} k_{23} k_{43} k_{54} k_{65} + k_{12} k_{23} k_{43} k_{56} k_{61} + k_{12} k_{23} k_{45} k_{56} k_{61} + k_{12} k_{32} k_{41} k_{54} k_{61} + k_{12} k_{32} k_{41} k_{54} k_{65} + k_{12} k_{32} k_{41} k_{56} k_{61} + k_{12} k_{32} k_{43} k_{54} k_{61} + k_{12} k_{32} k_{43} k_{54} k_{65} + k_{12} k_{32} k_{43} k_{56} k_{61} + k_{12} k_{32} k_{45} k_{56} k_{61} + k_{12} k_{34} k_{41} k_{54} k_{61} + k_{12} k_{34} k_{41} k_{54} k_{65} + k_{12} k_{34} k_{41} k_{56} k_{61} + k_{12} k_{34} k_{45} k_{56} k_{61} + k_{14} k_{21} k_{32} k_{45} k_{56} + k_{14} k_{21} k_{32} k_{45} k_{61} + k_{14} k_{21} k_{32} k_{45} k_{65} + k_{14} k_{21} k_{32} k_{54} k_{61} + k_{14} k_{21} k_{32} k_{54} k_{65} + k_{14} k_{21} k_{32} k_{56} k_{61} + k_{14} k_{21} k_{34} k_{45} k_{56} + k_{14} k_{21} k_{34} k_{45} k_{61} + k_{14} k_{21} k_{34} k_{45} k_{65} + k_{14} k_{21} k_{34} k_{54} k_{61} + k_{14} k_{21} k_{34} k_{54} k_{65} + k_{14} k_{21} k_{34} k_{56} k_{61} + k_{14} k_{21} k_{43} k_{54} k_{61} + k_{14} k_{21} k_{43} k_{54} k_{65} + k_{14} k_{21} k_{43} k_{56} k_{61} + k_{14} k_{23} k_{34} k_{45} k_{56} + k_{14} k_{23} k_{34} k_{45} k_{61} + k_{14} k_{23} k_{34} k_{45} k_{65} + k_{14} k_{23} k_{34} k_{54} k_{61} + k_{14} k_{23} k_{34} k_{54} k_{65} + k_{14} k_{23} k_{34} k_{56} k_{61} + k_{14} k_{23} k_{43} k_{54} k_{61} + k_{14} k_{23} k_{43} k_{54} k_{65} + k_{14} k_{23} k_{43} k_{56} k_{61} + k_{14} k_{32} k_{43} k_{54} k_{61} + k_{14} k_{32} k_{43} k_{54} k_{65} + k_{14} k_{32} k_{43} k_{56} k_{61} + k_{16} k_{21} k_{32} k_{41} k_{54} + k_{16} k_{21} k_{32} k_{41} k_{56} + k_{16} k_{21} k_{32} k_{41} k_{65} + k_{16} k_{21} k_{32} k_{43} k_{54} + k_{16} k_{21} k_{32} k_{43} k_{56} + k_{16} k_{21} k_{32} k_{43} k_{65} + k_{16} k_{21} k_{32} k_{45} k_{56} + k_{16} k_{21} k_{32} k_{45} k_{65} + k_{16} k_{21} k_{32} k_{54} k_{65} + k_{16} k_{21} k_{34} k_{41} k_{54} + k_{16} k_{21} k_{34} k_{41} k_{56} + k_{16} k_{21} k_{34} k_{41} k_{65} + k_{16} k_{21} k_{34} k_{45} k_{56} + k_{16} k_{21} k_{34} k_{45} k_{65} + k_{16} k_{21} k_{34} k_{54} k_{65} + k_{16} k_{21} k_{43} k_{54} k_{65} + k_{16} k_{23} k_{34} k_{41} k_{54} + k_{16} k_{23} k_{34} k_{41} k_{56} + k_{16} k_{23} k_{34} k_{41} k_{65} + k_{16} k_{23} k_{34} k_{45} k_{56} + k_{16} k_{23} k_{34} k_{45} k_{65} + k_{16} k_{23} k_{34} k_{54} k_{65} + k_{16} k_{23} k_{43} k_{54} k_{65} + k_{16} k_{32} k_{43} k_{54} k_{65} + k_{21} k_{32} k_{41} k_{54} k_{61} + k_{21} k_{32} k_{41} k_{54} k_{65} + k_{21} k_{32} k_{41} k_{56} k_{61} + k_{21} k_{32} k_{43} k_{54} k_{61} + k_{21} k_{32} k_{43} k_{54} k_{65} + k_{21} k_{32} k_{43} k_{56} k_{61} + k_{21} k_{32} k_{45} k_{56} k_{61} + k_{21} k_{34} k_{41} k_{54} k_{61} + k_{21} k_{34} k_{41} k_{54} k_{65} + k_{21} k_{34} k_{41} k_{56} k_{61} + k_{21} k_{34} k_{45} k_{56} k_{61} + k_{23} k_{34} k_{41} k_{54} k_{61} + k_{23} k_{34} k_{41} k_{54} k_{65} + k_{23} k_{34} k_{41} k_{56} k_{61} + k_{23} k_{34} k_{45} k_{56} k_{61}}$"
      ],
      "text/plain": [
       "(k12*k23*k34*k45*k56 + k14*k21*k32*k45*k56 + k14*k21*k34*k45*k56 + k14*k23*k34*k45*k56 + k16*k21*k32*k41*k54 + k16*k21*k32*k41*k56 + k16*k21*k32*k43*k54 + k16*k21*k32*k43*k56 + k16*k21*k32*k45*k56 + k16*k21*k34*k41*k54 + k16*k21*k34*k41*k56 + k16*k21*k34*k45*k56 + k16*k23*k34*k41*k54 + k16*k23*k34*k41*k56 + k16*k23*k34*k45*k56)/(k12*k23*k34*k45*k56 + k12*k23*k34*k45*k61 + k12*k23*k34*k45*k65 + k12*k23*k34*k54*k61 + k12*k23*k34*k54*k65 + k12*k23*k34*k56*k61 + k12*k23*k41*k54*k61 + k12*k23*k41*k54*k65 + k12*k23*k41*k56*k61 + k12*k23*k43*k54*k61 + k12*k23*k43*k54*k65 + k12*k23*k43*k56*k61 + k12*k23*k45*k56*k61 + k12*k32*k41*k54*k61 + k12*k32*k41*k54*k65 + k12*k32*k41*k56*k61 + k12*k32*k43*k54*k61 + k12*k32*k43*k54*k65 + k12*k32*k43*k56*k61 + k12*k32*k45*k56*k61 + k12*k34*k41*k54*k61 + k12*k34*k41*k54*k65 + k12*k34*k41*k56*k61 + k12*k34*k45*k56*k61 + k14*k21*k32*k45*k56 + k14*k21*k32*k45*k61 + k14*k21*k32*k45*k65 + k14*k21*k32*k54*k61 + k14*k21*k32*k54*k65 + k14*k21*k32*k56*k61 + k14*k21*k34*k45*k56 + k14*k21*k34*k45*k61 + k14*k21*k34*k45*k65 + k14*k21*k34*k54*k61 + k14*k21*k34*k54*k65 + k14*k21*k34*k56*k61 + k14*k21*k43*k54*k61 + k14*k21*k43*k54*k65 + k14*k21*k43*k56*k61 + k14*k23*k34*k45*k56 + k14*k23*k34*k45*k61 + k14*k23*k34*k45*k65 + k14*k23*k34*k54*k61 + k14*k23*k34*k54*k65 + k14*k23*k34*k56*k61 + k14*k23*k43*k54*k61 + k14*k23*k43*k54*k65 + k14*k23*k43*k56*k61 + k14*k32*k43*k54*k61 + k14*k32*k43*k54*k65 + k14*k32*k43*k56*k61 + k16*k21*k32*k41*k54 + k16*k21*k32*k41*k56 + k16*k21*k32*k41*k65 + k16*k21*k32*k43*k54 + k16*k21*k32*k43*k56 + k16*k21*k32*k43*k65 + k16*k21*k32*k45*k56 + k16*k21*k32*k45*k65 + k16*k21*k32*k54*k65 + k16*k21*k34*k41*k54 + k16*k21*k34*k41*k56 + k16*k21*k34*k41*k65 + k16*k21*k34*k45*k56 + k16*k21*k34*k45*k65 + k16*k21*k34*k54*k65 + k16*k21*k43*k54*k65 + k16*k23*k34*k41*k54 + k16*k23*k34*k41*k56 + k16*k23*k34*k41*k65 + k16*k23*k34*k45*k56 + k16*k23*k34*k45*k65 + k16*k23*k34*k54*k65 + k16*k23*k43*k54*k65 + k16*k32*k43*k54*k65 + k21*k32*k41*k54*k61 + k21*k32*k41*k54*k65 + k21*k32*k41*k56*k61 + k21*k32*k43*k54*k61 + k21*k32*k43*k54*k65 + k21*k32*k43*k56*k61 + k21*k32*k45*k56*k61 + k21*k34*k41*k54*k61 + k21*k34*k41*k54*k65 + k21*k34*k41*k56*k61 + k21*k34*k45*k56*k61 + k23*k34*k41*k54*k61 + k23*k34*k41*k54*k65 + k23*k34*k41*k56*k61 + k23*k34*k45*k56*k61)"
      ]
     },
     "execution_count": 13,
     "metadata": {},
     "output_type": "execute_result"
    }
   ],
   "source": [
    "G2_prob_strs[-1]"
   ]
  },
  {
   "cell_type": "markdown",
   "metadata": {},
   "source": [
    "## After Simplifications"
   ]
  },
  {
   "cell_type": "code",
   "execution_count": 14,
   "metadata": {},
   "outputs": [],
   "source": [
    "G2_simplified_prob_funcs = []\n",
    "for str_func in G2_prob_strs:\n",
    "    G2_simplified_prob_funcs.append(simplify(str_func.subs(sub_dict2)))"
   ]
  },
  {
   "cell_type": "code",
   "execution_count": 15,
   "metadata": {},
   "outputs": [
    {
     "data": {
      "text/latex": [
       "$\\displaystyle \\frac{A_{off} B_{on} c_{B} \\left(A_{in} A_{on} B_{off} k_{conf} + A_{in} A_{on} k_{conf}^{2} + A_{off} B_{off} k_{leak} + A_{off} B_{on} c_{B} k_{conf} + 2 A_{off} k_{conf} k_{leak} + A_{on} A_{out} k_{conf}^{2} + 2 B_{off} k_{conf} k_{leak} + 2 B_{on} c_{B} k_{conf}^{2} + 4 k_{conf}^{2} k_{leak}\\right)}{A_{in} A_{off} A_{on} B_{off}^{2} k_{conf} + A_{in} A_{off} A_{on} B_{off}^{2} k_{leak} + 2 A_{in} A_{off} A_{on} B_{off} B_{on} c_{B} k_{conf} + 2 A_{in} A_{off} A_{on} B_{off} k_{conf}^{2} + 2 A_{in} A_{off} A_{on} B_{off} k_{conf} k_{leak} + 2 A_{in} A_{off} A_{on} B_{on} c_{B} k_{conf}^{2} + 2 A_{in} A_{on}^{2} A_{out} B_{off}^{2} k_{conf} + 4 A_{in} A_{on}^{2} A_{out} B_{off} k_{conf}^{2} + 2 A_{in} A_{on} B_{off}^{2} k_{conf} k_{leak} + 2 A_{in} A_{on} B_{off} B_{on} c_{B} k_{conf}^{2} + 4 A_{in} A_{on} B_{off} k_{conf}^{2} k_{leak} + 2 A_{off}^{2} B_{off}^{2} k_{leak} + 2 A_{off}^{2} B_{off} B_{on} c_{B} k_{conf} + 2 A_{off}^{2} B_{off} B_{on} c_{B} k_{leak} + 4 A_{off}^{2} B_{off} k_{conf} k_{leak} + 2 A_{off}^{2} B_{on}^{2} c_{B}^{2} k_{conf} + 4 A_{off}^{2} B_{on} c_{B} k_{conf} k_{leak} + A_{off} A_{on} A_{out} B_{off}^{2} k_{conf} + A_{off} A_{on} A_{out} B_{off}^{2} k_{leak} + 2 A_{off} A_{on} A_{out} B_{off} B_{on} c_{B} k_{conf} + 2 A_{off} A_{on} A_{out} B_{off} k_{conf}^{2} + 2 A_{off} A_{on} A_{out} B_{off} k_{conf} k_{leak} + 2 A_{off} A_{on} A_{out} B_{on} c_{B} k_{conf}^{2} + 4 A_{off} B_{off}^{2} k_{conf} k_{leak} + 4 A_{off} B_{off} B_{on} c_{B} k_{conf}^{2} + 4 A_{off} B_{off} B_{on} c_{B} k_{conf} k_{leak} + 8 A_{off} B_{off} k_{conf}^{2} k_{leak} + 4 A_{off} B_{on}^{2} c_{B}^{2} k_{conf}^{2} + 8 A_{off} B_{on} c_{B} k_{conf}^{2} k_{leak} + 2 A_{on} A_{out} B_{off}^{2} k_{conf} k_{leak} + 2 A_{on} A_{out} B_{off} B_{on} c_{B} k_{conf}^{2} + 4 A_{on} A_{out} B_{off} k_{conf}^{2} k_{leak}}$"
      ],
      "text/plain": [
       "A_off*B_on*c_B*(A_in*A_on*B_off*k_conf + A_in*A_on*k_conf**2 + A_off*B_off*k_leak + A_off*B_on*c_B*k_conf + 2*A_off*k_conf*k_leak + A_on*A_out*k_conf**2 + 2*B_off*k_conf*k_leak + 2*B_on*c_B*k_conf**2 + 4*k_conf**2*k_leak)/(A_in*A_off*A_on*B_off**2*k_conf + A_in*A_off*A_on*B_off**2*k_leak + 2*A_in*A_off*A_on*B_off*B_on*c_B*k_conf + 2*A_in*A_off*A_on*B_off*k_conf**2 + 2*A_in*A_off*A_on*B_off*k_conf*k_leak + 2*A_in*A_off*A_on*B_on*c_B*k_conf**2 + 2*A_in*A_on**2*A_out*B_off**2*k_conf + 4*A_in*A_on**2*A_out*B_off*k_conf**2 + 2*A_in*A_on*B_off**2*k_conf*k_leak + 2*A_in*A_on*B_off*B_on*c_B*k_conf**2 + 4*A_in*A_on*B_off*k_conf**2*k_leak + 2*A_off**2*B_off**2*k_leak + 2*A_off**2*B_off*B_on*c_B*k_conf + 2*A_off**2*B_off*B_on*c_B*k_leak + 4*A_off**2*B_off*k_conf*k_leak + 2*A_off**2*B_on**2*c_B**2*k_conf + 4*A_off**2*B_on*c_B*k_conf*k_leak + A_off*A_on*A_out*B_off**2*k_conf + A_off*A_on*A_out*B_off**2*k_leak + 2*A_off*A_on*A_out*B_off*B_on*c_B*k_conf + 2*A_off*A_on*A_out*B_off*k_conf**2 + 2*A_off*A_on*A_out*B_off*k_conf*k_leak + 2*A_off*A_on*A_out*B_on*c_B*k_conf**2 + 4*A_off*B_off**2*k_conf*k_leak + 4*A_off*B_off*B_on*c_B*k_conf**2 + 4*A_off*B_off*B_on*c_B*k_conf*k_leak + 8*A_off*B_off*k_conf**2*k_leak + 4*A_off*B_on**2*c_B**2*k_conf**2 + 8*A_off*B_on*c_B*k_conf**2*k_leak + 2*A_on*A_out*B_off**2*k_conf*k_leak + 2*A_on*A_out*B_off*B_on*c_B*k_conf**2 + 4*A_on*A_out*B_off*k_conf**2*k_leak)"
      ]
     },
     "execution_count": 15,
     "metadata": {},
     "output_type": "execute_result"
    }
   ],
   "source": [
    "G2_simplified_prob_funcs[-1]"
   ]
  },
  {
   "cell_type": "markdown",
   "metadata": {},
   "source": [
    "### 6 State Cycle Flux"
   ]
  },
  {
   "cell_type": "code",
   "execution_count": 16,
   "metadata": {},
   "outputs": [],
   "source": [
    "G2_sympy_funcs = []\n",
    "for str_func in G2_cycle_flux_strs:\n",
    "    G2_sympy_funcs.append(simplify(str_func.subs(sub_dict2)))"
   ]
  },
  {
   "cell_type": "code",
   "execution_count": 17,
   "metadata": {},
   "outputs": [
    {
     "data": {
      "text/latex": [
       "$\\displaystyle \\frac{A_{off} A_{on} B_{off} B_{on} c_{B} k_{conf}^{2} \\left(A_{in} - A_{out}\\right)}{A_{in} A_{off} A_{on} B_{off}^{2} k_{conf} + A_{in} A_{off} A_{on} B_{off}^{2} k_{leak} + 2 A_{in} A_{off} A_{on} B_{off} B_{on} c_{B} k_{conf} + 2 A_{in} A_{off} A_{on} B_{off} k_{conf}^{2} + 2 A_{in} A_{off} A_{on} B_{off} k_{conf} k_{leak} + 2 A_{in} A_{off} A_{on} B_{on} c_{B} k_{conf}^{2} + 2 A_{in} A_{on}^{2} A_{out} B_{off}^{2} k_{conf} + 4 A_{in} A_{on}^{2} A_{out} B_{off} k_{conf}^{2} + 2 A_{in} A_{on} B_{off}^{2} k_{conf} k_{leak} + 2 A_{in} A_{on} B_{off} B_{on} c_{B} k_{conf}^{2} + 4 A_{in} A_{on} B_{off} k_{conf}^{2} k_{leak} + 2 A_{off}^{2} B_{off}^{2} k_{leak} + 2 A_{off}^{2} B_{off} B_{on} c_{B} k_{conf} + 2 A_{off}^{2} B_{off} B_{on} c_{B} k_{leak} + 4 A_{off}^{2} B_{off} k_{conf} k_{leak} + 2 A_{off}^{2} B_{on}^{2} c_{B}^{2} k_{conf} + 4 A_{off}^{2} B_{on} c_{B} k_{conf} k_{leak} + A_{off} A_{on} A_{out} B_{off}^{2} k_{conf} + A_{off} A_{on} A_{out} B_{off}^{2} k_{leak} + 2 A_{off} A_{on} A_{out} B_{off} B_{on} c_{B} k_{conf} + 2 A_{off} A_{on} A_{out} B_{off} k_{conf}^{2} + 2 A_{off} A_{on} A_{out} B_{off} k_{conf} k_{leak} + 2 A_{off} A_{on} A_{out} B_{on} c_{B} k_{conf}^{2} + 4 A_{off} B_{off}^{2} k_{conf} k_{leak} + 4 A_{off} B_{off} B_{on} c_{B} k_{conf}^{2} + 4 A_{off} B_{off} B_{on} c_{B} k_{conf} k_{leak} + 8 A_{off} B_{off} k_{conf}^{2} k_{leak} + 4 A_{off} B_{on}^{2} c_{B}^{2} k_{conf}^{2} + 8 A_{off} B_{on} c_{B} k_{conf}^{2} k_{leak} + 2 A_{on} A_{out} B_{off}^{2} k_{conf} k_{leak} + 2 A_{on} A_{out} B_{off} B_{on} c_{B} k_{conf}^{2} + 4 A_{on} A_{out} B_{off} k_{conf}^{2} k_{leak}}$"
      ],
      "text/plain": [
       "A_off*A_on*B_off*B_on*c_B*k_conf**2*(A_in - A_out)/(A_in*A_off*A_on*B_off**2*k_conf + A_in*A_off*A_on*B_off**2*k_leak + 2*A_in*A_off*A_on*B_off*B_on*c_B*k_conf + 2*A_in*A_off*A_on*B_off*k_conf**2 + 2*A_in*A_off*A_on*B_off*k_conf*k_leak + 2*A_in*A_off*A_on*B_on*c_B*k_conf**2 + 2*A_in*A_on**2*A_out*B_off**2*k_conf + 4*A_in*A_on**2*A_out*B_off*k_conf**2 + 2*A_in*A_on*B_off**2*k_conf*k_leak + 2*A_in*A_on*B_off*B_on*c_B*k_conf**2 + 4*A_in*A_on*B_off*k_conf**2*k_leak + 2*A_off**2*B_off**2*k_leak + 2*A_off**2*B_off*B_on*c_B*k_conf + 2*A_off**2*B_off*B_on*c_B*k_leak + 4*A_off**2*B_off*k_conf*k_leak + 2*A_off**2*B_on**2*c_B**2*k_conf + 4*A_off**2*B_on*c_B*k_conf*k_leak + A_off*A_on*A_out*B_off**2*k_conf + A_off*A_on*A_out*B_off**2*k_leak + 2*A_off*A_on*A_out*B_off*B_on*c_B*k_conf + 2*A_off*A_on*A_out*B_off*k_conf**2 + 2*A_off*A_on*A_out*B_off*k_conf*k_leak + 2*A_off*A_on*A_out*B_on*c_B*k_conf**2 + 4*A_off*B_off**2*k_conf*k_leak + 4*A_off*B_off*B_on*c_B*k_conf**2 + 4*A_off*B_off*B_on*c_B*k_conf*k_leak + 8*A_off*B_off*k_conf**2*k_leak + 4*A_off*B_on**2*c_B**2*k_conf**2 + 8*A_off*B_on*c_B*k_conf**2*k_leak + 2*A_on*A_out*B_off**2*k_conf*k_leak + 2*A_on*A_out*B_off*B_on*c_B*k_conf**2 + 4*A_on*A_out*B_off*k_conf**2*k_leak)"
      ]
     },
     "execution_count": 17,
     "metadata": {},
     "output_type": "execute_result"
    }
   ],
   "source": [
    "G2_sympy_funcs[1]"
   ]
  },
  {
   "cell_type": "code",
   "execution_count": 18,
   "metadata": {},
   "outputs": [],
   "source": [
    "G1_sympy_func = simplify(G1_cycle_flux_str.subs(sub_dict1))\n",
    "G1_net_cycle_flux_func = expressions.construct_lambda_funcs(G1_sympy_func, rate_names1)"
   ]
  },
  {
   "cell_type": "code",
   "execution_count": 19,
   "metadata": {},
   "outputs": [],
   "source": [
    "G2_net_cycle_flux_funcs = expressions.construct_lambda_funcs(G2_sympy_funcs, rate_names2)"
   ]
  },
  {
   "cell_type": "code",
   "execution_count": 20,
   "metadata": {},
   "outputs": [],
   "source": [
    "A_on = 1e10\n",
    "A_off = 1e3\n",
    "B_on = 1e9\n",
    "B_off = 1e2\n",
    "k_conf = 100\n",
    "A_in = 10**(-6.5)\n",
    "A_out = 10**(-7.5)\n",
    "c_B = 10**(-7)\n",
    "\n",
    "power_max = 2\n",
    "step = 1e-1\n",
    "\n",
    "powers = np.arange(-3, power_max, step=step, dtype=float)\n",
    "leak_array = 10 ** powers\n",
    "\n",
    "G1_flux = []\n",
    "G2_flux = []\n",
    "for k_leak in leak_array:\n",
    "    G1_flux.append(G1_net_cycle_flux_func(A_on, A_off, B_on, B_off, k_conf, A_in, A_out, c_B))\n",
    "    G2_fluxes = []\n",
    "    for func in G2_net_cycle_flux_funcs:\n",
    "        G2_fluxes.append(func(A_on, A_off, B_on, B_off, k_conf, k_leak, A_in, A_out, c_B))\n",
    "    G2_flux.append(G2_fluxes)\n",
    "G2_flux = np.array(G2_flux)\n",
    "\n",
    "A_flux = G2_flux[:, 1] + G2_flux[:, 2]\n",
    "B_flux = G2_flux[:, 1] + G2_flux[:, 0]"
   ]
  },
  {
   "cell_type": "code",
   "execution_count": 21,
   "metadata": {},
   "outputs": [
    {
     "name": "stderr",
     "output_type": "stream",
     "text": [
      "findfont: Font family ['Helvetica'] not found. Falling back to DejaVu Sans.\n"
     ]
    },
    {
     "data": {
      "image/png": "[encoded data removed]",
      "text/plain": [
       "<Figure size 360x360 with 3 Axes>"
      ]
     },
     "metadata": {
      "needs_background": "light"
     },
     "output_type": "display_data"
    }
   ],
   "source": [
    "fig, axs = plt.subplots(3, figsize=(5, 5), sharex=True, tight_layout=True)\n",
    "\n",
    "axs[0].semilogx(leak_array, G1_flux, '--', lw=2, color=\"black\", label=\"G1\")\n",
    "axs[0].semilogx(leak_array, G2_flux[:, 1], '-', lw=2, color=\"orange\", label=\"G2\")\n",
    "axs[0].set_title(\"Net Cycle Flux: Productive Cycle\", fontsize=11)\n",
    "axs[0].set_ylabel(r\"Flux ($s^{-1}$)\", fontsize=10)\n",
    "axs[0].set_ylim(0, 10)\n",
    "axs[0].legend(bbox_to_anchor=(1, 1))\n",
    "axs[0].grid(True)\n",
    "\n",
    "axs[1].semilogx(leak_array, A_flux, '-', color='red', lw=2, label=r\"$A_{flux}$\")\n",
    "axs[1].semilogx(leak_array, B_flux, '-', color='blue', lw=2, label=r\"$B_{flux}$\")\n",
    "axs[1].set_title(\"A/B Operational Flux\", fontsize=11)\n",
    "axs[1].set_ylabel(r\"Flux ($s^{-1}$)\", fontsize=10)\n",
    "axs[1].set_ylim(0, 20)\n",
    "axs[1].legend(bbox_to_anchor=(1, 1))\n",
    "axs[1].grid(True)\n",
    "\n",
    "axs[2].axhline(y=1, ls='--', color='black', label=\"1:1\")\n",
    "axs[2].semilogx(leak_array, B_flux/A_flux, '-', lw=2, color=\"purple\", label=r\"B/A\")\n",
    "axs[2].set_title(\"Stoichiometry\", fontsize=11)\n",
    "axs[2].set_ylabel(\"Substrate/Driv. Ion\", fontsize=10)\n",
    "axs[2].set_xlabel(r\"$k_{leak}$ ($s^{-1}$)\")\n",
    "axs[2].set_ylim(0, 1.1)\n",
    "axs[2].legend(bbox_to_anchor=(1, 1))\n",
    "axs[2].grid(True)\n",
    "plt.savefig(cwd+\"/6wl_all_in_one_plot.png\", dpi=300)"
   ]
  },
  {
   "cell_type": "code",
   "execution_count": null,
   "metadata": {},
   "outputs": [],
   "source": []
  }
 ],
 "metadata": {
  "kernelspec": {
   "display_name": "Python 3 (ipykernel)",
   "language": "python",
   "name": "python3"
  },
  "language_info": {
   "codemirror_mode": {
    "name": "ipython",
    "version": 3
   },
   "file_extension": ".py",
   "mimetype": "text/x-python",
   "name": "python",
   "nbconvert_exporter": "python",
   "pygments_lexer": "ipython3",
   "version": "3.8.8"
  }
 },
 "nbformat": 4,
 "nbformat_minor": 2
}
