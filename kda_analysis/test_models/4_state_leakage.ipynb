{
 "cells": [
  {
   "cell_type": "markdown",
   "metadata": {},
   "source": [
    "# 4 State Model Net Cycle Flux Testing"
   ]
  },
  {
   "cell_type": "code",
   "execution_count": 1,
   "metadata": {},
   "outputs": [],
   "source": [
    "import os\n",
    "import sys\n",
    "import numpy as np\n",
    "import networkx as nx\n",
    "import matplotlib\n",
    "from mpl_toolkits.mplot3d import Axes3D\n",
    "import matplotlib.pyplot as plt\n",
    "from sympy import *\n",
    "import time\n",
    "from sympy.parsing.sympy_parser import parse_expr\n",
    "\n",
    "\n",
    "from kda import plotting, graph_utils, calculations, diagrams, expressions, ode"
   ]
  },
  {
   "cell_type": "code",
   "execution_count": 2,
   "metadata": {},
   "outputs": [],
   "source": [
    "kvals1 = np.array([\n",
    "    [0, 1, 0, 1],\n",
    "    [1, 0, 1, 0],\n",
    "    [0, 1, 0, 1],\n",
    "    [1, 0, 1, 0],\n",
    "])\n",
    "\n",
    "kvals2 = np.array([\n",
    "    [0, 1, 0, 1],\n",
    "    [1, 0, 1, 1],\n",
    "    [0, 1, 0, 1],\n",
    "    [1, 1, 1, 0],\n",
    "])\n",
    "\n",
    "G1 = nx.MultiDiGraph()\n",
    "graph_utils.generate_edges(G1, kvals1)\n",
    "G2 = nx.MultiDiGraph()\n",
    "graph_utils.generate_edges(G2, kvals2)\n",
    "pos = {0 : [1, 1],\n",
    "       1 : [-1, 1],\n",
    "       2 : [-1, -1],\n",
    "       3 : [1, -1]}\n",
    "\n",
    "cwd = os.getcwd()"
   ]
  },
  {
   "cell_type": "code",
   "execution_count": 3,
   "metadata": {},
   "outputs": [
    {
     "name": "stderr",
     "output_type": "stream",
     "text": [
      "findfont: Font family ['Helvetica'] not found. Falling back to DejaVu Sans.\n",
      "findfont: Font family ['Helvetica'] not found. Falling back to DejaVu Sans.\n"
     ]
    }
   ],
   "source": [
    "sol = ode.ode_solver(np.array([0.5, 0.5, 0, 0]), kvals1, t_max=5)\n",
    "plotting.draw_ode_results(sol, path=cwd, label=\"4_state_ode_solution\")"
   ]
  },
  {
   "cell_type": "code",
   "execution_count": 4,
   "metadata": {},
   "outputs": [],
   "source": [
    "plotting.draw_diagrams(G1, pos=pos, font_size=12, path=cwd, label=\"4_state_diagram\", curved_arrows=True)\n",
    "plotting.draw_diagrams(G2, pos=pos, font_size=12, path=cwd, label=\"4_state_leakage_diagram\", curved_arrows=True)"
   ]
  },
  {
   "cell_type": "code",
   "execution_count": 5,
   "metadata": {},
   "outputs": [],
   "source": [
    "pars = diagrams.generate_partial_diagrams(G2)\n",
    "plotting.draw_diagrams(pars, pos=pos, panel=True, panel_scale=1.75, rows=1, cols=8, font_size=12, path=cwd, label=\"4wl_partial_diagrams\")\n",
    "\n",
    "dirpars = diagrams.generate_directional_diagrams(G2)\n",
    "plotting.draw_diagrams(dirpars, pos=pos, panel=True, panel_scale=1.75, rows=4, font_size=12, cbt=True, path=cwd, label=\"4wl_directional_diagrams\")"
   ]
  },
  {
   "cell_type": "code",
   "execution_count": 6,
   "metadata": {},
   "outputs": [],
   "source": [
    "G1_cycle = graph_utils.find_all_unique_cycles(G1)[0]\n",
    "G2_cycles = graph_utils.find_all_unique_cycles(G2)\n",
    "\n",
    "# pick positive direction\n",
    "order = [1, 0]"
   ]
  },
  {
   "cell_type": "code",
   "execution_count": 7,
   "metadata": {},
   "outputs": [],
   "source": [
    "G2_cycles_reordered = [G2_cycles[1], G2_cycles[0], G2_cycles[2]]"
   ]
  },
  {
   "cell_type": "code",
   "execution_count": 8,
   "metadata": {},
   "outputs": [],
   "source": [
    "plotting.draw_cycles(G2, G2_cycles_reordered, pos=pos, panel=True, panel_scale=1.75, font_size=12, path=cwd, label=\"4wl_cycles\", curved_arrows=True, cbt=True)"
   ]
  },
  {
   "cell_type": "code",
   "execution_count": 9,
   "metadata": {},
   "outputs": [],
   "source": [
    "rate_names1 = [\"M_on, M_off, L_on, L_off, M_i, M_o, L_i, L_o\"]\n",
    "M_on, M_off, L_on, L_off, M_i, M_o, L_i, L_o = symbols(\n",
    "    \"M_on M_off L_on L_off M_i M_o L_i L_o\"\n",
    ")\n",
    "k12, k21, k23, k32, k34, k43, k41, k14 = symbols(\n",
    "\"k12, k21, k23, k32, k34, k43, k41, k14\"\n",
    ")\n",
    "sub_dict1 = {\n",
    "    k12: M_on*M_i,\n",
    "    k21: M_off,\n",
    "    k23: L_on*L_i,\n",
    "    k32: L_off,\n",
    "    k34: L_off,\n",
    "    k43: L_on*L_o,\n",
    "    k41: M_off,\n",
    "    k14: M_on*M_o,\n",
    "}"
   ]
  },
  {
   "cell_type": "markdown",
   "metadata": {},
   "source": [
    "    substitutions = {\n",
    "        k12: M_on*M_i,\n",
    "        k21: M_off,\n",
    "        k23: L_on*L_i,\n",
    "        k32: L_off,\n",
    "        k34: L_off,\n",
    "        k43: L_on*L_o,\n",
    "        k41: M_off,\n",
    "        k14: M_on*M_o,\n",
    "        k24: k_leak,\n",
    "        k42: k_leak,\n",
    "    }"
   ]
  },
  {
   "cell_type": "code",
   "execution_count": 10,
   "metadata": {},
   "outputs": [],
   "source": [
    "rate_names2 = [\"M_on, M_off, L_on, L_off, k_leak, M_i, M_o, L_i, L_o\"]\n",
    "M_on, M_off, L_on, L_off, k_leak, M_i, M_o, L_i, L_o = symbols(\n",
    "    \"M_on M_off L_on L_off k_leak M_i M_o L_i L_o\"\n",
    ")\n",
    "k12, k21, k23, k32, k34, k43, k41, k14, k24, k42 = symbols(\n",
    "\"k12, k21, k23, k32, k34, k43, k41, k14, k24, k42\"\n",
    ")\n",
    "sub_dict2 = {\n",
    "    k12: M_on*M_i,\n",
    "    k21: M_off,\n",
    "    k23: L_on*L_i,\n",
    "    k32: L_off,\n",
    "    k34: L_off,\n",
    "    k43: L_on*L_o,\n",
    "    k41: M_off,\n",
    "    k14: M_on*M_o,\n",
    "    k24: k_leak,\n",
    "    k42: k_leak,\n",
    "}\n",
    "\n",
    "M_on = 1e10\n",
    "M_off = 1e3\n",
    "L_on = 1e9\n",
    "L_off = 1e2\n",
    "M_i = 10 ** (-6.5)\n",
    "M_o = 10 ** (-7.5)\n",
    "L_o = 10 ** (-7.9)\n",
    "L_i = 10 ** (-8.1)\n",
    "\n",
    "rate_names2s = [\"k_leak\"]\n",
    "k_leak = symbols(\"k_leak\")\n",
    "sub_dict2s = {\n",
    "    k12: M_on*M_i,\n",
    "    k21: M_off,\n",
    "    k23: L_on*L_i,\n",
    "    k32: L_off,\n",
    "    k34: L_off,\n",
    "    k43: L_on*L_o,\n",
    "    k41: M_off,\n",
    "    k14: M_on*M_o,\n",
    "    k24: k_leak,\n",
    "    k42: k_leak,\n",
    "}"
   ]
  },
  {
   "cell_type": "code",
   "execution_count": 11,
   "metadata": {},
   "outputs": [],
   "source": [
    "G2_orders = [\n",
    "    [0, 1],\n",
    "    [0, 1],\n",
    "    [1, 2],\n",
    "]"
   ]
  },
  {
   "cell_type": "code",
   "execution_count": 12,
   "metadata": {},
   "outputs": [
    {
     "name": "stdout",
     "output_type": "stream",
     "text": [
      "Cycle [0, 3, 2, 1] contains all nodes in G. No flux diagrams generated.\n",
      "No flux diagrams detected for cycle [0, 3, 2, 1]. Sigma K value is 1.\n",
      "*** Cycle:  [0, 3, 2, 1]\n",
      "Cycle [0, 3, 2, 1] contains all nodes in G. No flux diagrams generated.\n",
      "No flux diagrams detected for cycle [0, 3, 2, 1]. Sigma K value is 1.\n",
      "*** Cycle:  [0, 3, 1]\n",
      "*** Cycle:  [1, 3, 2]\n"
     ]
    }
   ],
   "source": [
    "G1_cycle_flux_str = calculations.calc_net_cycle_flux(G1, G1_cycle, order=[0, 1], key='name', output_strings=True)\n",
    "G2_cycle_flux_strs = []\n",
    "for order, cycle in zip(G2_orders, G2_cycles):\n",
    "    print(\"*** Cycle: \", cycle)\n",
    "    G2_cycle_flux_strs.append(calculations.calc_net_cycle_flux(G2, cycle, order=order, key='name', output_strings=True))"
   ]
  },
  {
   "cell_type": "code",
   "execution_count": 13,
   "metadata": {},
   "outputs": [],
   "source": [
    "G1_prob_strs = calculations.calc_state_probs(G1, key='name', output_strings=True)\n",
    "G2_prob_strs = calculations.calc_state_probs(G2, key='name', output_strings=True)"
   ]
  },
  {
   "cell_type": "markdown",
   "metadata": {},
   "source": [
    "## Before Simplifications"
   ]
  },
  {
   "cell_type": "code",
   "execution_count": 14,
   "metadata": {},
   "outputs": [
    {
     "data": {
      "text/latex": [
       "$\\displaystyle \\frac{k_{12} k_{23} k_{34} k_{41} - k_{14} k_{21} k_{32} k_{43}}{k_{12} k_{23} k_{34} + k_{12} k_{23} k_{41} + k_{12} k_{23} k_{42} + k_{12} k_{23} k_{43} + k_{12} k_{24} k_{32} + k_{12} k_{24} k_{34} + k_{12} k_{24} k_{43} + k_{12} k_{32} k_{41} + k_{12} k_{32} k_{42} + k_{12} k_{32} k_{43} + k_{12} k_{34} k_{41} + k_{12} k_{34} k_{42} + k_{14} k_{21} k_{32} + k_{14} k_{21} k_{34} + k_{14} k_{21} k_{43} + k_{14} k_{23} k_{34} + k_{14} k_{23} k_{42} + k_{14} k_{23} k_{43} + k_{14} k_{24} k_{32} + k_{14} k_{24} k_{34} + k_{14} k_{24} k_{43} + k_{14} k_{32} k_{42} + k_{14} k_{32} k_{43} + k_{14} k_{34} k_{42} + k_{21} k_{32} k_{41} + k_{21} k_{32} k_{42} + k_{21} k_{32} k_{43} + k_{21} k_{34} k_{41} + k_{21} k_{34} k_{42} + k_{23} k_{34} k_{41} + k_{24} k_{32} k_{41} + k_{24} k_{34} k_{41}}$"
      ],
      "text/plain": [
       "(k12*k23*k34*k41 - k14*k21*k32*k43)/(k12*k23*k34 + k12*k23*k41 + k12*k23*k42 + k12*k23*k43 + k12*k24*k32 + k12*k24*k34 + k12*k24*k43 + k12*k32*k41 + k12*k32*k42 + k12*k32*k43 + k12*k34*k41 + k12*k34*k42 + k14*k21*k32 + k14*k21*k34 + k14*k21*k43 + k14*k23*k34 + k14*k23*k42 + k14*k23*k43 + k14*k24*k32 + k14*k24*k34 + k14*k24*k43 + k14*k32*k42 + k14*k32*k43 + k14*k34*k42 + k21*k32*k41 + k21*k32*k42 + k21*k32*k43 + k21*k34*k41 + k21*k34*k42 + k23*k34*k41 + k24*k32*k41 + k24*k34*k41)"
      ]
     },
     "execution_count": 14,
     "metadata": {},
     "output_type": "execute_result"
    }
   ],
   "source": [
    "G2_cycle_flux_strs[0]"
   ]
  },
  {
   "cell_type": "markdown",
   "metadata": {},
   "source": [
    "## After Simplifications"
   ]
  },
  {
   "cell_type": "code",
   "execution_count": 15,
   "metadata": {},
   "outputs": [
    {
     "data": {
      "text/latex": [
       "$\\displaystyle \\frac{L_{off} M_{off} \\left(L_{i} L_{on} + L_{o} L_{on} + 2 M_{off} + 4 k_{leak}\\right)}{L_{i} L_{o} L_{on}^{2} M_{i} M_{on} + L_{i} L_{o} L_{on}^{2} M_{o} M_{on} + L_{i} L_{off} L_{on} M_{i} M_{on} + L_{i} L_{off} L_{on} M_{o} M_{on} + L_{i} L_{off} L_{on} M_{off} + L_{i} L_{on} M_{i} M_{off} M_{on} + L_{i} L_{on} M_{i} M_{on} k_{leak} + L_{i} L_{on} M_{o} M_{on} k_{leak} + L_{o} L_{off} L_{on} M_{i} M_{on} + L_{o} L_{off} L_{on} M_{o} M_{on} + L_{o} L_{off} L_{on} M_{off} + L_{o} L_{on} M_{i} M_{on} k_{leak} + L_{o} L_{on} M_{o} M_{off} M_{on} + L_{o} L_{on} M_{o} M_{on} k_{leak} + 2 L_{off} M_{i} M_{off} M_{on} + 4 L_{off} M_{i} M_{on} k_{leak} + 2 L_{off} M_{o} M_{off} M_{on} + 4 L_{off} M_{o} M_{on} k_{leak} + 2 L_{off} M_{off}^{2} + 4 L_{off} M_{off} k_{leak}}$"
      ],
      "text/plain": [
       "L_off*M_off*(L_i*L_on + L_o*L_on + 2*M_off + 4*k_leak)/(L_i*L_o*L_on**2*M_i*M_on + L_i*L_o*L_on**2*M_o*M_on + L_i*L_off*L_on*M_i*M_on + L_i*L_off*L_on*M_o*M_on + L_i*L_off*L_on*M_off + L_i*L_on*M_i*M_off*M_on + L_i*L_on*M_i*M_on*k_leak + L_i*L_on*M_o*M_on*k_leak + L_o*L_off*L_on*M_i*M_on + L_o*L_off*L_on*M_o*M_on + L_o*L_off*L_on*M_off + L_o*L_on*M_i*M_on*k_leak + L_o*L_on*M_o*M_off*M_on + L_o*L_on*M_o*M_on*k_leak + 2*L_off*M_i*M_off*M_on + 4*L_off*M_i*M_on*k_leak + 2*L_off*M_o*M_off*M_on + 4*L_off*M_o*M_on*k_leak + 2*L_off*M_off**2 + 4*L_off*M_off*k_leak)"
      ]
     },
     "execution_count": 15,
     "metadata": {},
     "output_type": "execute_result"
    }
   ],
   "source": [
    "simplify(G2_prob_strs[0].subs(sub_dict2))"
   ]
  },
  {
   "cell_type": "markdown",
   "metadata": {},
   "source": [
    "### 4 State Probs"
   ]
  },
  {
   "cell_type": "code",
   "execution_count": 16,
   "metadata": {},
   "outputs": [],
   "source": [
    "G2_simplified_prob_funcs = []\n",
    "for str_func in G2_prob_strs:\n",
    "    func = latex(simplify(str_func.subs(sub_dict2)))\n",
    "    G2_simplified_prob_funcs.append(func)"
   ]
  },
  {
   "cell_type": "markdown",
   "metadata": {},
   "source": [
    "### 4 State Cycle Flux"
   ]
  },
  {
   "cell_type": "code",
   "execution_count": 17,
   "metadata": {},
   "outputs": [],
   "source": [
    "G2_sympy_funcs = []\n",
    "for str_func in G2_cycle_flux_strs:\n",
    "    G2_sympy_funcs.append(simplify(str_func.subs(sub_dict2)))"
   ]
  },
  {
   "cell_type": "code",
   "execution_count": 18,
   "metadata": {},
   "outputs": [],
   "source": [
    "G1_sympy_func = simplify(G1_cycle_flux_str.subs(sub_dict1))\n",
    "G1_net_cycle_flux_func = expressions.construct_lambda_funcs(G1_sympy_func, rate_names1)"
   ]
  },
  {
   "cell_type": "code",
   "execution_count": 19,
   "metadata": {},
   "outputs": [],
   "source": [
    "G2_net_cycle_flux_funcs = expressions.construct_lambda_funcs(G2_sympy_funcs, rate_names2)"
   ]
  },
  {
   "cell_type": "code",
   "execution_count": 20,
   "metadata": {},
   "outputs": [],
   "source": [
    "M_on = 1e10\n",
    "M_off = 1e3\n",
    "L_on = 1e9\n",
    "L_off = 1e2\n",
    "M_i = 10 ** (-6.5)\n",
    "M_o = 10 ** (-7.5)\n",
    "L_o = 10 ** (-6.9)\n",
    "L_i = 10 ** (-7.1)\n",
    "\n",
    "power_max = 2\n",
    "step = 1e-1\n",
    "\n",
    "powers = np.arange(-2, power_max, step=step, dtype=float)\n",
    "leak_array = 10 ** powers\n",
    "\n",
    "G1_flux = []\n",
    "G2_flux = []\n",
    "for k_leak in leak_array:\n",
    "    G1_flux.append(G1_net_cycle_flux_func(M_on, M_off, L_on, L_off, M_i, M_o, L_i, L_o))\n",
    "    G2_fluxes = []\n",
    "    for func in G2_net_cycle_flux_funcs:\n",
    "        G2_fluxes.append(func(M_on, M_off, L_on, L_off, k_leak, M_i, M_o, L_i, L_o))\n",
    "    G2_flux.append(G2_fluxes)\n",
    "G2_flux = np.array(G2_flux)\n",
    "\n",
    "M_flux = G2_flux[:, 0] + G2_flux[:, 1]\n",
    "L_flux = G2_flux[:, 0] + G2_flux[:, 2]"
   ]
  },
  {
   "cell_type": "code",
   "execution_count": 21,
   "metadata": {},
   "outputs": [
    {
     "name": "stderr",
     "output_type": "stream",
     "text": [
      "findfont: Font family ['Helvetica'] not found. Falling back to DejaVu Sans.\n"
     ]
    },
    {
     "data": {
      "image/png": "[encoded data removed]",
      "text/plain": [
       "<Figure size 360x360 with 3 Axes>"
      ]
     },
     "metadata": {
      "needs_background": "light"
     },
     "output_type": "display_data"
    }
   ],
   "source": [
    "fig, axs = plt.subplots(3, figsize=(5, 5), sharex=True, tight_layout=True)\n",
    "\n",
    "axs[0].semilogx(leak_array, G1_flux, '--', lw=2, color=\"black\", label=\"G1\")\n",
    "axs[0].semilogx(leak_array, G2_flux[:, 0], '-', lw=2, color=\"orange\", label=\"G2\")\n",
    "axs[0].set_title(\"Net Cycle Flux: Productive Cycle\", fontsize=11)\n",
    "axs[0].set_ylabel(r\"Flux ($s^{-1}$)\", fontsize=10)\n",
    "axs[0].set_ylim(10, 20)\n",
    "axs[0].legend(bbox_to_anchor=(1, 1))\n",
    "axs[0].grid(True)\n",
    "\n",
    "axs[1].semilogx(leak_array, M_flux, '-', color='red', lw=2, label=r\"M\")\n",
    "axs[1].semilogx(leak_array, L_flux, '-', color='blue', lw=2, label=r\"L\")\n",
    "axs[1].set_title(\"Operational Flux\", fontsize=11)\n",
    "axs[1].set_ylabel(r\"Flux ($s^{-1}$)\", fontsize=10)\n",
    "axs[1].set_ylim(0, np.max(M_flux)*1.1)\n",
    "axs[1].legend(bbox_to_anchor=(1, 1))\n",
    "axs[1].grid(True)\n",
    "\n",
    "axs[2].axhline(y=1, ls='--', color='black', label=\"1:1\")\n",
    "axs[2].semilogx(leak_array, L_flux/M_flux, '-', lw=2, color=\"purple\", label=r\"L/M\")\n",
    "axs[2].set_title(\"Stoichiometry\", fontsize=11)\n",
    "axs[2].set_ylabel(\"Substrate/Driv. Ion\", fontsize=10)\n",
    "axs[2].set_xlabel(r\"$k_{leak}$ ($s^{-1}$)\")\n",
    "axs[2].set_ylim(0, 1.1)\n",
    "axs[2].legend(bbox_to_anchor=(1, 1))\n",
    "axs[2].grid(True)\n",
    "plt.savefig(cwd+\"/4wl_all_in_one_plot.png\", dpi=300)"
   ]
  },
  {
   "cell_type": "code",
   "execution_count": null,
   "metadata": {},
   "outputs": [],
   "source": []
  }
 ],
 "metadata": {
  "kernelspec": {
   "display_name": "Python 3 (ipykernel)",
   "language": "python",
   "name": "python3"
  },
  "language_info": {
   "codemirror_mode": {
    "name": "ipython",
    "version": 3
   },
   "file_extension": ".py",
   "mimetype": "text/x-python",
   "name": "python",
   "nbconvert_exporter": "python",
   "pygments_lexer": "ipython3",
   "version": "3.8.8"
  }
 },
 "nbformat": 4,
 "nbformat_minor": 2
}
