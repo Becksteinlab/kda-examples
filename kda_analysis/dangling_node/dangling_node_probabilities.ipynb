{
 "cells": [
  {
   "cell_type": "code",
   "execution_count": 1,
   "metadata": {},
   "outputs": [],
   "source": [
    "import numpy as np\n",
    "import networkx as nx\n",
    "import matplotlib.pyplot as plt\n",
    "from sympy import *\n",
    "import time\n",
    "from sympy.parsing.sympy_parser import parse_expr\n",
    "from kda import graph_utils, calculations, ode, svd\n",
    "from kda.plotting import *"
   ]
  },
  {
   "cell_type": "code",
   "execution_count": 2,
   "metadata": {},
   "outputs": [],
   "source": [
    "k12 = 1\n",
    "k21 = 1\n",
    "k23 = 1\n",
    "k32 = 1\n",
    "k13 = 1\n",
    "k31 = 1\n",
    "k43 = 1\n",
    "k34 = 1\n",
    "\n",
    "#=========== Standard ==============\n",
    "k3 = np.array([[0, k12, k13],\n",
    "              [k21, 0, k23],\n",
    "              [k31, k32, 0]])\n",
    "\n",
    "rate_names3 = [\"k12\", \"k21\", \"k23\", \"k32\", \"k13\", \"k31\"]\n",
    "\n",
    "#=========== Dangling ==============\n",
    "k3d = np.array([[  0, k12, k13,   0],\n",
    "                [k21,   0, k23,   0],\n",
    "                [k31, k32,   0, k34],\n",
    "                [0  ,   0, k43,   0]])\n",
    "\n",
    "rate_names3d = [\"k12\", \"k21\", \"k23\", \"k32\", \"k13\", \"k31\", \"k43\", \"k34\"]"
   ]
  },
  {
   "cell_type": "code",
   "execution_count": 3,
   "metadata": {},
   "outputs": [],
   "source": [
    "G3 = nx.MultiDiGraph()\n",
    "graph_utils.generate_edges(G3, k3)\n",
    "\n",
    "pos3 = {0 : [0, 1],\n",
    "        1 : [-np.sqrt(3)/2, -0.5],\n",
    "        2 : [np.sqrt(3)/2, -0.5]}\n",
    "\n",
    "G3d = nx.MultiDiGraph()\n",
    "graph_utils.generate_edges(G3d, k3d)\n",
    "\n",
    "pos3d = {0 : [0, 0.5],\n",
    "         1 : [-np.sqrt(3)/2, -0.5],\n",
    "         2 : [np.sqrt(3)/2, -0.5],\n",
    "         3 : [(np.sqrt(3)/2) + 1, -0.5]}"
   ]
  },
  {
   "cell_type": "code",
   "execution_count": 4,
   "metadata": {},
   "outputs": [
    {
     "data": {
      "image/png": "[encoded data removed]",
      "text/plain": [
       "<Figure size 288x288 with 1 Axes>"
      ]
     },
     "metadata": {},
     "output_type": "display_data"
    }
   ],
   "source": [
    "draw_diagrams(G3, pos=pos3)"
   ]
  },
  {
   "cell_type": "code",
   "execution_count": 5,
   "metadata": {},
   "outputs": [
    {
     "data": {
      "image/png": "[encoded data removed]",
      "text/plain": [
       "<Figure size 288x288 with 1 Axes>"
      ]
     },
     "metadata": {},
     "output_type": "display_data"
    }
   ],
   "source": [
    "draw_diagrams(G3d, pos=pos3d)"
   ]
  },
  {
   "cell_type": "markdown",
   "metadata": {},
   "source": [
    "## State Probabilities"
   ]
  },
  {
   "cell_type": "code",
   "execution_count": 6,
   "metadata": {},
   "outputs": [],
   "source": [
    "probs_3 = calculations.calc_state_probs(G3, key='name', output_strings=True)"
   ]
  },
  {
   "cell_type": "code",
   "execution_count": 7,
   "metadata": {},
   "outputs": [],
   "source": [
    "probs_3d = calculations.calc_state_probs(G3d, key='name', output_strings=True)"
   ]
  },
  {
   "cell_type": "code",
   "execution_count": 8,
   "metadata": {},
   "outputs": [],
   "source": [
    "k43, k34, k_leak = symbols(\"k43, k34, k_leak\")\n",
    "sub_dict = {k43 : k_leak,\n",
    "            k34 : k_leak}"
   ]
  },
  {
   "cell_type": "code",
   "execution_count": 9,
   "metadata": {},
   "outputs": [
    {
     "name": "stdout",
     "output_type": "stream",
     "text": [
      "\n",
      "\\frac{k_{21} k_{31} k_{43} + k_{21} k_{32} k_{43} + k_{23} k_{31} k_{43}}{k_{12} k_{23} k_{34} + k_{12} k_{23} k_{43} + k_{12} k_{31} k_{43} + k_{12} k_{32} k_{43} + k_{13} k_{21} k_{34} + k_{13} k_{21} k_{43} + k_{13} k_{23} k_{34} + k_{13} k_{23} k_{43} + k_{13} k_{32} k_{43} + k_{21} k_{31} k_{43} + k_{21} k_{32} k_{43} + k_{23} k_{31} k_{43}}\n",
      "\n",
      "\\frac{k_{12} k_{31} k_{43} + k_{12} k_{32} k_{43} + k_{13} k_{32} k_{43}}{k_{12} k_{23} k_{34} + k_{12} k_{23} k_{43} + k_{12} k_{31} k_{43} + k_{12} k_{32} k_{43} + k_{13} k_{21} k_{34} + k_{13} k_{21} k_{43} + k_{13} k_{23} k_{34} + k_{13} k_{23} k_{43} + k_{13} k_{32} k_{43} + k_{21} k_{31} k_{43} + k_{21} k_{32} k_{43} + k_{23} k_{31} k_{43}}\n",
      "\n",
      "\\frac{k_{12} k_{23} k_{43} + k_{13} k_{21} k_{43} + k_{13} k_{23} k_{43}}{k_{12} k_{23} k_{34} + k_{12} k_{23} k_{43} + k_{12} k_{31} k_{43} + k_{12} k_{32} k_{43} + k_{13} k_{21} k_{34} + k_{13} k_{21} k_{43} + k_{13} k_{23} k_{34} + k_{13} k_{23} k_{43} + k_{13} k_{32} k_{43} + k_{21} k_{31} k_{43} + k_{21} k_{32} k_{43} + k_{23} k_{31} k_{43}}\n",
      "\n",
      "\\frac{k_{12} k_{23} k_{34} + k_{13} k_{21} k_{34} + k_{13} k_{23} k_{34}}{k_{12} k_{23} k_{34} + k_{12} k_{23} k_{43} + k_{12} k_{31} k_{43} + k_{12} k_{32} k_{43} + k_{13} k_{21} k_{34} + k_{13} k_{21} k_{43} + k_{13} k_{23} k_{34} + k_{13} k_{23} k_{43} + k_{13} k_{32} k_{43} + k_{21} k_{31} k_{43} + k_{21} k_{32} k_{43} + k_{23} k_{31} k_{43}}\n"
     ]
    }
   ],
   "source": [
    "for p in probs_3d:\n",
    "    print(\"\")\n",
    "    print(latex(p))"
   ]
  },
  {
   "cell_type": "code",
   "execution_count": 10,
   "metadata": {},
   "outputs": [
    {
     "data": {
      "text/latex": [
       "$\\displaystyle \\frac{k_{21} k_{31} + k_{21} k_{32} + k_{23} k_{31}}{2 k_{12} k_{23} + k_{12} k_{31} + k_{12} k_{32} + 2 k_{13} k_{21} + 2 k_{13} k_{23} + k_{13} k_{32} + k_{21} k_{31} + k_{21} k_{32} + k_{23} k_{31}}$"
      ],
      "text/plain": [
       "(k21*k31 + k21*k32 + k23*k31)/(2*k12*k23 + k12*k31 + k12*k32 + 2*k13*k21 + 2*k13*k23 + k13*k32 + k21*k31 + k21*k32 + k23*k31)"
      ]
     },
     "execution_count": 10,
     "metadata": {},
     "output_type": "execute_result"
    }
   ],
   "source": [
    "simplify(probs_3d[0].subs(sub_dict))"
   ]
  },
  {
   "cell_type": "code",
   "execution_count": 11,
   "metadata": {},
   "outputs": [
    {
     "data": {
      "text/latex": [
       "$\\displaystyle \\frac{2 k_{12} k_{23} + k_{12} k_{31} + k_{12} k_{32} + 2 k_{13} k_{21} + 2 k_{13} k_{23} + k_{13} k_{32} + k_{21} k_{31} + k_{21} k_{32} + k_{23} k_{31}}{k_{12} k_{23} + k_{12} k_{31} + k_{12} k_{32} + k_{13} k_{21} + k_{13} k_{23} + k_{13} k_{32} + k_{21} k_{31} + k_{21} k_{32} + k_{23} k_{31}}$"
      ],
      "text/plain": [
       "(2*k12*k23 + k12*k31 + k12*k32 + 2*k13*k21 + 2*k13*k23 + k13*k32 + k21*k31 + k21*k32 + k23*k31)/(k12*k23 + k12*k31 + k12*k32 + k13*k21 + k13*k23 + k13*k32 + k21*k31 + k21*k32 + k23*k31)"
      ]
     },
     "execution_count": 11,
     "metadata": {},
     "output_type": "execute_result"
    }
   ],
   "source": [
    "simplify(probs_3[0] / simplify(probs_3d[0].subs(sub_dict)))"
   ]
  },
  {
   "cell_type": "markdown",
   "metadata": {},
   "source": [
    "## Net Cycle Fluxes"
   ]
  },
  {
   "cell_type": "code",
   "execution_count": 12,
   "metadata": {},
   "outputs": [],
   "source": [
    "cycle = [0, 1, 2]\n",
    "order = [0, 1] # CCW is positive"
   ]
  },
  {
   "cell_type": "code",
   "execution_count": 13,
   "metadata": {},
   "outputs": [
    {
     "name": "stdout",
     "output_type": "stream",
     "text": [
      "Cycle [0, 1, 2] contains all nodes in G. No flux diagrams generated.\n",
      "No flux diagrams detected for cycle [0, 1, 2]. Sigma K value is 1.\n"
     ]
    }
   ],
   "source": [
    "J_3_state = calculations.calc_net_cycle_flux(G3, cycle, order, key='name', output_strings=True)\n",
    "J_3_state_dangling = calculations.calc_net_cycle_flux(G3d, cycle, order, key='name', output_strings=True)\n",
    "\n",
    "k_leak = 10\n",
    "k43, k34, k_leak = symbols(\"k43, k34, k_leak\")\n",
    "sub_dict = {k43 : k_leak,\n",
    "            k34 : k_leak}\n",
    "J_3_state_dangling_simplified = simplify(J_3_state_dangling.subs(sub_dict))"
   ]
  },
  {
   "cell_type": "code",
   "execution_count": 14,
   "metadata": {},
   "outputs": [
    {
     "data": {
      "text/plain": [
       "'\\\\frac{k_{12} k_{23} k_{31} - k_{13} k_{21} k_{32}}{k_{12} k_{23} + k_{12} k_{31} + k_{12} k_{32} + k_{13} k_{21} + k_{13} k_{23} + k_{13} k_{32} + k_{21} k_{31} + k_{21} k_{32} + k_{23} k_{31}}'"
      ]
     },
     "execution_count": 14,
     "metadata": {},
     "output_type": "execute_result"
    }
   ],
   "source": [
    "latex(J_3_state)"
   ]
  },
  {
   "cell_type": "code",
   "execution_count": 15,
   "metadata": {},
   "outputs": [
    {
     "data": {
      "text/plain": [
       "'\\\\frac{k_{43} \\\\left(k_{12} k_{23} k_{31} - k_{13} k_{21} k_{32}\\\\right)}{k_{12} k_{23} k_{34} + k_{12} k_{23} k_{43} + k_{12} k_{31} k_{43} + k_{12} k_{32} k_{43} + k_{13} k_{21} k_{34} + k_{13} k_{21} k_{43} + k_{13} k_{23} k_{34} + k_{13} k_{23} k_{43} + k_{13} k_{32} k_{43} + k_{21} k_{31} k_{43} + k_{21} k_{32} k_{43} + k_{23} k_{31} k_{43}}'"
      ]
     },
     "execution_count": 15,
     "metadata": {},
     "output_type": "execute_result"
    }
   ],
   "source": [
    "latex(J_3_state_dangling)"
   ]
  },
  {
   "cell_type": "markdown",
   "metadata": {},
   "source": [
    "##  Limits"
   ]
  },
  {
   "cell_type": "code",
   "execution_count": 16,
   "metadata": {},
   "outputs": [
    {
     "data": {
      "text/latex": [
       "$\\displaystyle \\frac{k_{12} k_{23} k_{31} - k_{13} k_{21} k_{32}}{k_{12} k_{23} + k_{12} k_{31} + k_{12} k_{32} + k_{13} k_{21} + k_{13} k_{23} + k_{13} k_{32} + k_{21} k_{31} + k_{21} k_{32} + k_{23} k_{31}}$"
      ],
      "text/plain": [
       "(k12*k23*k31 - k13*k21*k32)/(k12*k23 + k12*k31 + k12*k32 + k13*k21 + k13*k23 + k13*k32 + k21*k31 + k21*k32 + k23*k31)"
      ]
     },
     "execution_count": 16,
     "metadata": {},
     "output_type": "execute_result"
    }
   ],
   "source": [
    "J_3_state"
   ]
  },
  {
   "cell_type": "markdown",
   "metadata": {},
   "source": [
    "#### Limit as k43 approaches zero"
   ]
  },
  {
   "cell_type": "code",
   "execution_count": 17,
   "metadata": {},
   "outputs": [
    {
     "data": {
      "text/latex": [
       "$\\displaystyle 0$"
      ],
      "text/plain": [
       "0"
      ]
     },
     "execution_count": 17,
     "metadata": {},
     "output_type": "execute_result"
    }
   ],
   "source": [
    "limit(J_3_state_dangling, k43, 0)"
   ]
  },
  {
   "cell_type": "markdown",
   "metadata": {},
   "source": [
    "#### Limit as k43 approaches infinity"
   ]
  },
  {
   "cell_type": "code",
   "execution_count": 18,
   "metadata": {},
   "outputs": [
    {
     "data": {
      "text/latex": [
       "$\\displaystyle \\frac{k_{12} k_{23} k_{31} - k_{13} k_{21} k_{32}}{k_{12} k_{23} + k_{12} k_{31} + k_{12} k_{32} + k_{13} k_{21} + k_{13} k_{23} + k_{13} k_{32} + k_{21} k_{31} + k_{21} k_{32} + k_{23} k_{31}}$"
      ],
      "text/plain": [
       "(k12*k23*k31 - k13*k21*k32)/(k12*k23 + k12*k31 + k12*k32 + k13*k21 + k13*k23 + k13*k32 + k21*k31 + k21*k32 + k23*k31)"
      ]
     },
     "execution_count": 18,
     "metadata": {},
     "output_type": "execute_result"
    }
   ],
   "source": [
    "simplify(limit_seq(J_3_state_dangling, k43))"
   ]
  },
  {
   "cell_type": "markdown",
   "metadata": {},
   "source": [
    "#### Limit as k34 approaches zero"
   ]
  },
  {
   "cell_type": "code",
   "execution_count": 19,
   "metadata": {},
   "outputs": [
    {
     "data": {
      "text/latex": [
       "$\\displaystyle \\frac{k_{12} k_{23} k_{31} - k_{13} k_{21} k_{32}}{k_{12} k_{23} + k_{12} k_{31} + k_{12} k_{32} + k_{13} k_{21} + k_{13} k_{23} + k_{13} k_{32} + k_{21} k_{31} + k_{21} k_{32} + k_{23} k_{31}}$"
      ],
      "text/plain": [
       "(k12*k23*k31 - k13*k21*k32)/(k12*k23 + k12*k31 + k12*k32 + k13*k21 + k13*k23 + k13*k32 + k21*k31 + k21*k32 + k23*k31)"
      ]
     },
     "execution_count": 19,
     "metadata": {},
     "output_type": "execute_result"
    }
   ],
   "source": [
    "limit(J_3_state_dangling, k34, 0)"
   ]
  },
  {
   "cell_type": "markdown",
   "metadata": {},
   "source": [
    "#### Limit as k34 approaches infinity"
   ]
  },
  {
   "cell_type": "code",
   "execution_count": 20,
   "metadata": {},
   "outputs": [
    {
     "data": {
      "text/latex": [
       "$\\displaystyle 0$"
      ],
      "text/plain": [
       "0"
      ]
     },
     "execution_count": 20,
     "metadata": {},
     "output_type": "execute_result"
    }
   ],
   "source": [
    "limit_seq(J_3_state_dangling, k34)"
   ]
  },
  {
   "cell_type": "markdown",
   "metadata": {},
   "source": [
    "### Assert string equations are the same"
   ]
  },
  {
   "cell_type": "code",
   "execution_count": 21,
   "metadata": {},
   "outputs": [],
   "source": [
    "assert str(simplify(limit_seq(J_3_state_dangling, k43))) == str(J_3_state)\n",
    "assert str(limit(J_3_state_dangling, k34, 0)) == str(J_3_state)"
   ]
  },
  {
   "cell_type": "markdown",
   "metadata": {},
   "source": [
    "##  ====================== Plots ======================"
   ]
  },
  {
   "cell_type": "code",
   "execution_count": 22,
   "metadata": {},
   "outputs": [],
   "source": [
    "lambda_func3 = lambdify(rate_names3, J_3_state)\n",
    "lambda_func3d = lambdify(rate_names3d, J_3_state_dangling)"
   ]
  },
  {
   "cell_type": "code",
   "execution_count": 23,
   "metadata": {},
   "outputs": [],
   "source": [
    "pstep = 0.1\n",
    "power = 7\n",
    "power_arr = np.arange(-power, power+pstep, pstep)\n",
    "leak_rate = 10 ** power_arr\n",
    "\n",
    "kon = 1e10\n",
    "koff = 1e3\n",
    "k_conf = 100\n",
    "# cin = 10 ** -6.5\n",
    "# cout = 10 ** -7.5\n",
    "cin = 10 ** -7\n",
    "cout = 10 ** -7\n",
    "\n",
    "k12 = kon*cin\n",
    "k21 = koff\n",
    "k23 = koff\n",
    "k32 = kon*cout\n",
    "k31 = k_conf\n",
    "k13 = k_conf"
   ]
  },
  {
   "cell_type": "markdown",
   "metadata": {},
   "source": [
    "#### Plug in zero for k34, k43"
   ]
  },
  {
   "cell_type": "code",
   "execution_count": 24,
   "metadata": {},
   "outputs": [
    {
     "data": {
      "text/plain": [
       "0.0"
      ]
     },
     "execution_count": 24,
     "metadata": {},
     "output_type": "execute_result"
    }
   ],
   "source": [
    "lambda_func3d(k12, k21, k23, k32, k13, k31, k43=0, k34=1)"
   ]
  },
  {
   "cell_type": "code",
   "execution_count": 25,
   "metadata": {},
   "outputs": [
    {
     "data": {
      "text/plain": [
       "0.0"
      ]
     },
     "execution_count": 25,
     "metadata": {},
     "output_type": "execute_result"
    }
   ],
   "source": [
    "lambda_func3d(k12, k21, k23, k32, k13, k31, k43=1, k34=0)"
   ]
  },
  {
   "cell_type": "code",
   "execution_count": 26,
   "metadata": {},
   "outputs": [
    {
     "name": "stderr",
     "output_type": "stream",
     "text": [
      "C:\\Users\\nikol\\AppData\\Local\\Temp\\ipykernel_14584\\2557600407.py:2: RuntimeWarning: invalid value encountered in true_divide\n",
      "  actual_k34 = lambda_func3d(k12, k21, k23, k32, k13, k31, k43=1, k34=leak_rate)/expected\n",
      "C:\\Users\\nikol\\AppData\\Local\\Temp\\ipykernel_14584\\2557600407.py:3: RuntimeWarning: invalid value encountered in true_divide\n",
      "  actual_k43 = lambda_func3d(k12, k21, k23, k32, k13, k31, k43=leak_rate, k34=1)/expected\n",
      "C:\\Users\\nikol\\AppData\\Local\\Temp\\ipykernel_14584\\2557600407.py:4: RuntimeWarning: invalid value encountered in true_divide\n",
      "  actual_both = lambda_func3d(k12, k21, k23, k32, k13, k31, k43=leak_rate, k34=leak_rate)/expected\n"
     ]
    }
   ],
   "source": [
    "expected = lambda_func3(k12, k21, k23, k32, k13, k31)\n",
    "actual_k34 = lambda_func3d(k12, k21, k23, k32, k13, k31, k43=1, k34=leak_rate)/expected\n",
    "actual_k43 = lambda_func3d(k12, k21, k23, k32, k13, k31, k43=leak_rate, k34=1)/expected\n",
    "actual_both = lambda_func3d(k12, k21, k23, k32, k13, k31, k43=leak_rate, k34=leak_rate)/expected"
   ]
  },
  {
   "cell_type": "code",
   "execution_count": 27,
   "metadata": {},
   "outputs": [
    {
     "name": "stderr",
     "output_type": "stream",
     "text": [
      "findfont: Font family ['Helvetica'] not found. Falling back to DejaVu Sans.\n",
      "findfont: Font family ['Helvetica'] not found. Falling back to DejaVu Sans.\n"
     ]
    },
    {
     "data": {
      "image/png": "[encoded data removed]",
      "text/plain": [
       "<Figure size 288x216 with 1 Axes>"
      ]
     },
     "metadata": {
      "needs_background": "light"
     },
     "output_type": "display_data"
    }
   ],
   "source": [
    "fig = plt.figure(figsize=(4, 3), tight_layout=True)\n",
    "ax = fig.add_subplot(111)\n",
    "ax.semilogx(leak_rate, np.ones(len(leak_rate)), color=\"black\", ls=\"--\", label=\"Expected\")\n",
    "ax.semilogx(1/leak_rate, actual_k34, color=\"blue\", lw=3, label=r\"$k_{34}$ varies\")\n",
    "ax.semilogx(leak_rate/1, actual_k43, color=\"red\", label=r\"$k_{43}$ varies\")\n",
    "ax.semilogx(leak_rate, actual_both, color=\"green\", label=r\"$k_{34} = k_{43}$\")\n",
    "# ax.set_ylim(-10, 60)\n",
    "ax.set_title(\"Dangling Node Fluxes\")\n",
    "ax.set_xlabel(r\"$k_{43} / k_{34}$\")\n",
    "ax.set_ylabel(r\"Flux / $J_{expected}$\")\n",
    "ax.legend(bbox_to_anchor=(1, 1))\n",
    "ax.grid(True)\n",
    "plt.savefig(\"dangling_node_1.png\", dpi=300)"
   ]
  },
  {
   "cell_type": "code",
   "execution_count": 28,
   "metadata": {},
   "outputs": [],
   "source": [
    "p1f = lambdify(rate_names3, probs_3[0])\n",
    "p2f = lambdify(rate_names3, probs_3[1])\n",
    "p3f = lambdify(rate_names3, probs_3[2])\n",
    "\n",
    "p1f_3d = lambdify(rate_names3d, probs_3d[0])\n",
    "p2f_3d = lambdify(rate_names3d, probs_3d[1])\n",
    "p3f_3d = lambdify(rate_names3d, probs_3d[2])\n",
    "p4f_3d = lambdify(rate_names3d, probs_3d[3])"
   ]
  },
  {
   "cell_type": "code",
   "execution_count": 29,
   "metadata": {},
   "outputs": [],
   "source": [
    "p1 = p1f(k12, k21, k23, k32, k13, k31)\n",
    "p2 = p2f(k12, k21, k23, k32, k13, k31)\n",
    "p3 = p3f(k12, k21, k23, k32, k13, k31)\n",
    "\n",
    "p1d = p1f_3d(k12, k21, k23, k32, k13, k31, k43=leak_rate, k34=1)\n",
    "p2d = p2f_3d(k12, k21, k23, k32, k13, k31, k43=leak_rate, k34=1)\n",
    "p3d = p3f_3d(k12, k21, k23, k32, k13, k31, k43=leak_rate, k34=1)\n",
    "p4d = p4f_3d(k12, k21, k23, k32, k13, k31, k43=leak_rate, k34=1)\n",
    "\n",
    "p1d2 = p1f_3d(k12, k21, k23, k32, k13, k31, k43=leak_rate, k34=leak_rate)\n",
    "p2d2 = p2f_3d(k12, k21, k23, k32, k13, k31, k43=leak_rate, k34=leak_rate)\n",
    "p3d2 = p3f_3d(k12, k21, k23, k32, k13, k31, k43=leak_rate, k34=leak_rate)\n",
    "p4d2 = p4f_3d(k12, k21, k23, k32, k13, k31, k43=leak_rate, k34=leak_rate)"
   ]
  },
  {
   "cell_type": "code",
   "execution_count": 30,
   "metadata": {},
   "outputs": [
    {
     "data": {
      "image/png": "[encoded data removed]",
      "text/plain": [
       "<Figure size 288x216 with 1 Axes>"
      ]
     },
     "metadata": {
      "needs_background": "light"
     },
     "output_type": "display_data"
    }
   ],
   "source": [
    "fig = plt.figure(figsize=(4, 3), tight_layout=True)\n",
    "ax = fig.add_subplot(111)\n",
    "\n",
    "ax.semilogx(leak_rate, p1*np.ones(len(leak_rate)), color=\"black\", ls=\"--\", label=r\"$p_{1}$\")\n",
    "ax.semilogx(leak_rate, p2*np.ones(len(leak_rate)), color=\"grey\", ls=\"--\", label=r\"$p_{2}$\")\n",
    "ax.semilogx(leak_rate, p3*np.ones(len(leak_rate)), color=\"brown\", ls=\"--\", label=r\"$p_{3}$\")\n",
    "ax.semilogx(leak_rate, p1d, color=\"blue\", label=r\"$p_{1, dangling}$\")\n",
    "ax.semilogx(leak_rate, p2d, color=\"red\", label=r\"$p_{2, dangling}$\")\n",
    "ax.semilogx(leak_rate, p3d, color=\"green\", label=r\"$p_{3, dangling}$\")\n",
    "ax.semilogx(leak_rate, p4d, color=\"orange\", label=r\"$p_{4, dangling}$\")\n",
    "\n",
    "# ax.set_ylim(0, 1)\n",
    "ax.set_title(\"Dangling Node State Probabilities \\n\"\n",
    "             \"k34 = 1\")\n",
    "ax.set_xlabel(r\"$k_{43} / k_{34}$\")\n",
    "# ax.set_ylabel(r\"Flux / $J_{expected}$\")\n",
    "ax.legend(bbox_to_anchor=(1, 1))\n",
    "plt.savefig(\"dangling_node_2.png\", dpi=300)"
   ]
  },
  {
   "cell_type": "code",
   "execution_count": 31,
   "metadata": {},
   "outputs": [
    {
     "data": {
      "image/png": "[encoded data removed]",
      "text/plain": [
       "<Figure size 288x216 with 1 Axes>"
      ]
     },
     "metadata": {
      "needs_background": "light"
     },
     "output_type": "display_data"
    }
   ],
   "source": [
    "fig = plt.figure(figsize=(4, 3), tight_layout=True)\n",
    "ax = fig.add_subplot(111)\n",
    "\n",
    "ax.semilogx(leak_rate, p1*np.ones(len(leak_rate)), color=\"black\", ls=\"--\", label=r\"$p_{1}$\")\n",
    "ax.semilogx(leak_rate, p2*np.ones(len(leak_rate)), color=\"grey\", ls=\"--\", label=r\"$p_{2}$\")\n",
    "ax.semilogx(leak_rate, p3*np.ones(len(leak_rate)), color=\"brown\", ls=\"--\", label=r\"$p_{3}$\")\n",
    "ax.semilogx(leak_rate, p1d2, color=\"blue\", label=r\"$p_{1, dangling}$\")\n",
    "ax.semilogx(leak_rate, p2d2, color=\"red\", label=r\"$p_{2, dangling}$\")\n",
    "ax.semilogx(leak_rate, p3d2, color=\"green\", label=r\"$p_{3, dangling}$\")\n",
    "ax.semilogx(leak_rate, p4d2, color=\"orange\", label=r\"$p_{4, dangling}$\")\n",
    "# ax.set_ylim(0, 1)\n",
    "ax.set_title(\"Dangling Node State Probabilities \\n\"\n",
    "             \"k34 = k43\")\n",
    "ax.set_xlabel(r\"$k_{43} / k_{34}$\")\n",
    "# ax.set_ylabel(r\"Flux / $J_{expected}$\")\n",
    "ax.legend(bbox_to_anchor=(1, 1))\n",
    "plt.savefig(\"dangling_node_22.png\", dpi=300)"
   ]
  },
  {
   "cell_type": "markdown",
   "metadata": {},
   "source": [
    "## KDA vs. ODE Solver"
   ]
  },
  {
   "cell_type": "code",
   "execution_count": 32,
   "metadata": {},
   "outputs": [],
   "source": [
    "def generate_plot_data(k43, k34, tmax, kda_funcs=[p1f, p2f, p3f], kda_dangling_funcs=[p1f_3d, p2f_3d, p3f_3d, p4f_3d]):\n",
    "    kon = 1e10\n",
    "    koff = 1e3\n",
    "    k_conf = 100\n",
    "#     cin = 10 ** -6.5\n",
    "#     cout = 10 ** -7.5\n",
    "    cin = 10 ** -7\n",
    "    cout = 10 ** -7\n",
    "\n",
    "    k12 = kon*cin\n",
    "    k21 = koff\n",
    "    k23 = koff\n",
    "    k32 = kon*cout\n",
    "    k31 = k_conf\n",
    "    k13 = k_conf\n",
    "    \n",
    "    k3 = np.array([[0, k12, k13],\n",
    "                  [k21, 0, k23],\n",
    "                  [k31, k32, 0]])\n",
    "    k3d = np.array([[  0, k12, k13,   0],\n",
    "                    [k21,   0, k23,   0],\n",
    "                    [k31, k32,   0, k34],\n",
    "                    [0  ,   0, k43,   0]])\n",
    "\n",
    "    P3 = np.array([1, 10, 100])/111\n",
    "#     P3d = np.array([1, 1, 1, 1])/4\n",
    "    P3d = np.array([0, 0, 0, 1])\n",
    "\n",
    "    results3 = ode.ode_solver(P3, k3, t_max=tmax, tol=1e-12, atol=1e-16, rtol=1e-13)\n",
    "    results3d = ode.ode_solver(P3d, k3d, t_max=tmax, tol=1e-12, atol=1e-16, rtol=1e-13)\n",
    "    t3 = results3.t\n",
    "    t3d = results3d.t\n",
    "    ode_3 = results3.y\n",
    "    ode_3d = results3d.y\n",
    "\n",
    "    p1 = kda_funcs[0](k12, k21, k23, k32, k13, k31)\n",
    "    p2 = kda_funcs[1](k12, k21, k23, k32, k13, k31)\n",
    "    p3 = kda_funcs[2](k12, k21, k23, k32, k13, k31)\n",
    "    \n",
    "    p1d = kda_dangling_funcs[0](k12, k21, k23, k32, k13, k31, k43=k43, k34=k34)\n",
    "    p2d = kda_dangling_funcs[1](k12, k21, k23, k32, k13, k31, k43=k43, k34=k34)\n",
    "    p3d = kda_dangling_funcs[2](k12, k21, k23, k32, k13, k31, k43=k43, k34=k34)\n",
    "    p4d = kda_dangling_funcs[3](k12, k21, k23, k32, k13, k31, k43=k43, k34=k34)\n",
    "    \n",
    "    return t3, t3d, ode_3, ode_3d, p1, p2, p3, p1d, p2d, p3d, p4d"
   ]
  },
  {
   "cell_type": "code",
   "execution_count": 33,
   "metadata": {},
   "outputs": [],
   "source": [
    "def plot_kda_vs_ODE(k43, k34, t3, p1, p2, p3, ode_3, savestr=None):\n",
    "    fig = plt.figure(figsize=(4, 3), tight_layout=True)\n",
    "    ax = fig.add_subplot(111)\n",
    "\n",
    "    ax.plot(t3, p1*np.ones(len(t3)), color=\"brown\", lw=2, ls=\"--\", label=r\"$p_{1, kda}$\")\n",
    "    ax.plot(t3, p2*np.ones(len(t3)), color=\"grey\", lw=2, ls=\"--\", label=r\"$p_{2, kda}$\")\n",
    "    ax.plot(t3, p3*np.ones(len(t3)), color=\"tan\", lw=2, ls=\"--\", label=r\"$p_{3, kda}$\")\n",
    "\n",
    "    ax.plot(t3, ode_3[0], color=\"brown\", label=r\"$p_{1, ode}$\")\n",
    "    ax.plot(t3, ode_3[1], color=\"grey\", label=r\"$p_{2, ode}$\")\n",
    "    ax.plot(t3, ode_3[2], color=\"tan\", label=r\"$p_{3, ode}$\")\n",
    "\n",
    "    ax.set_ylim(0, 1)\n",
    "    ax.set_title(\"3 State Probabilities KDA vs. ODE \\n\"\n",
    "                 \"k43/k34 = {:.0e}\".format(k43/k34))\n",
    "    ax.set_xlabel(r\"Time (s)\")\n",
    "    ax.set_ylabel(\"Probability\")\n",
    "    ax.legend(bbox_to_anchor=(1, 1))\n",
    "    if savestr != None:\n",
    "        plt.savefig(savestr, dpi=300)"
   ]
  },
  {
   "cell_type": "code",
   "execution_count": 34,
   "metadata": {},
   "outputs": [],
   "source": [
    "def prob_label(idx):\n",
    "    labelexp = \"p_{%s, kda}\" % (idx)\n",
    "    labelact = \"p_{%s, ode}\" % (idx)\n",
    "    return r\"|$%s$ - $%s$|/$%s$\" % (labelexp, labelact, labelexp)"
   ]
  },
  {
   "cell_type": "code",
   "execution_count": 35,
   "metadata": {},
   "outputs": [],
   "source": [
    "def plot_KDA_vs_ODE_error(k43, k34, t3d, p1, p2, p3, ode_3d, savestr=None):\n",
    "    fig = plt.figure(figsize=(5, 3), tight_layout=True)\n",
    "    ax = fig.add_subplot(111)\n",
    "\n",
    "    arr1 = p1*np.ones(len(t3d))\n",
    "    arr2 = p2*np.ones(len(t3d))\n",
    "    arr3 = p3*np.ones(len(t3d))\n",
    "\n",
    "    ax.semilogx(t3d, np.abs(arr1 - ode_3d[0])/arr1, color=\"brown\", ls=\"-\", label=prob_label(1))\n",
    "    ax.semilogx(t3d, np.abs(arr2 - ode_3d[1])/arr2, color=\"grey\", ls=\"-\", label=prob_label(2))\n",
    "    ax.semilogx(t3d, np.abs(arr3 - ode_3d[2])/arr3, color=\"tan\", ls=\"-\", label=prob_label(3))\n",
    "    ax.semilogx(t3d, ode_3d[3], color=\"red\", ls=\"-\", label=r\"$p_{4, ode}$\")\n",
    "#     ax.axhline(1, 0, color=\"black\", ls=\"--\")\n",
    "\n",
    "    ax.set_title(\"State Probability Error KDA vs. ODE \\n\"\n",
    "                 \"k43/k34 = {:.0e}\".format(k43/k34))\n",
    "    ax.set_xlabel(r\"Time (s)\")\n",
    "    ax.set_ylabel(\"Error\")\n",
    "#     ax.set_ylim(-0.1, 1.1)\n",
    "    ax.grid(True)\n",
    "    ax.legend(loc=\"upper left\", bbox_to_anchor=(1, 1))\n",
    "    if savestr != None:\n",
    "        plt.savefig(savestr, bbox_inches=\"tight\", dpi=300)"
   ]
  },
  {
   "cell_type": "markdown",
   "metadata": {},
   "source": [
    "#### 1.) test case where k43 == k34"
   ]
  },
  {
   "cell_type": "code",
   "execution_count": 36,
   "metadata": {},
   "outputs": [],
   "source": [
    "k43 = 1\n",
    "k34 = 1\n",
    "tmax = 10"
   ]
  },
  {
   "cell_type": "code",
   "execution_count": 37,
   "metadata": {},
   "outputs": [
    {
     "name": "stdout",
     "output_type": "stream",
     "text": [
      "\n",
      " kda.ode.ode_solver() reached convergence at t=0.029652312353771016\n",
      "\n",
      "\n",
      " kda.ode.ode_solver() reached convergence at t=0.028572805856112764\n",
      "\n",
      "\n",
      " kda.ode.ode_solver() reached convergence at t=0.029652312353771016\n",
      "\n"
     ]
    }
   ],
   "source": [
    "t3, t3d, ode_3, ode_3d, p1, p2, p3, p1d, p2d, p3d, p4d = generate_plot_data(k43=k43, k34=k34, tmax=tmax)"
   ]
  },
  {
   "cell_type": "code",
   "execution_count": 38,
   "metadata": {},
   "outputs": [
    {
     "data": {
      "image/png": "[encoded data removed]",
      "text/plain": [
       "<Figure size 288x216 with 1 Axes>"
      ]
     },
     "metadata": {
      "needs_background": "light"
     },
     "output_type": "display_data"
    }
   ],
   "source": [
    "plot_kda_vs_ODE(k43, k34, t3, p1, p2, p3, ode_3, savestr=\"3_state_probs_k43_=_k34.png\")"
   ]
  },
  {
   "cell_type": "code",
   "execution_count": 39,
   "metadata": {},
   "outputs": [
    {
     "data": {
      "image/png": "[encoded data removed]",
      "text/plain": [
       "<Figure size 360x216 with 1 Axes>"
      ]
     },
     "metadata": {
      "needs_background": "light"
     },
     "output_type": "display_data"
    }
   ],
   "source": [
    "plot_KDA_vs_ODE_error(k43, k34, t3d, p1, p2, p3, ode_3d, savestr=\"3_state_error_k43_error_k34.png\")"
   ]
  },
  {
   "cell_type": "code",
   "execution_count": 40,
   "metadata": {},
   "outputs": [
    {
     "data": {
      "image/png": "[encoded data removed]",
      "text/plain": [
       "<Figure size 288x216 with 1 Axes>"
      ]
     },
     "metadata": {
      "needs_background": "light"
     },
     "output_type": "display_data"
    }
   ],
   "source": [
    "fig = plt.figure(figsize=(4, 3), tight_layout=True)\n",
    "ax = fig.add_subplot(111)\n",
    "\n",
    "arr1 = p1d*np.ones(len(t3d))\n",
    "arr2 = p2d*np.ones(len(t3d))\n",
    "arr3 = p3d*np.ones(len(t3d))\n",
    "arr4 = p4d*np.ones(len(t3d))\n",
    "\n",
    "ax.semilogx(t3d, arr1, color=\"brown\", ls=\"--\", label=r\"$p_{1, kda}$\")\n",
    "ax.semilogx(t3d, arr2, color=\"grey\", ls=\"--\", label=r\"$p_{2, kda}$\")\n",
    "ax.semilogx(t3d, arr3, color=\"tan\", ls=\"-.\", label=r\"$p_{3, kda}$\")\n",
    "ax.semilogx(t3d, arr4, color=\"orange\", ls=\"--\", label=r\"$p_{4, kda}$\")\n",
    "\n",
    "ax.semilogx(t3d, ode_3d[0], color=\"brown\", ls=\"-\", label=r\"$p_{1, ode}$\")\n",
    "ax.semilogx(t3d, ode_3d[1], color=\"grey\", ls=\"-\", label=r\"$p_{2, ode}$\")\n",
    "ax.semilogx(t3d, ode_3d[2], color=\"tan\", ls=\"-\", label=r\"$p_{3, ode}$\")\n",
    "ax.semilogx(t3d, ode_3d[3], color=\"orange\", ls=\"-\", label=r\"$p_{4, ode}$\")\n",
    "\n",
    "ax.set_title(\"Dangling Node KDA vs. ODE \\n\"\n",
    "             \"k43/k34 = {:.0e}\".format(k43/k34))\n",
    "ax.set_xlabel(r\"Time (s)\")\n",
    "ax.set_ylabel(\"Probability\")\n",
    "ax.set_ylim(-0.1, 1.1)\n",
    "ax.grid(True)\n",
    "ax.legend(loc=\"best\")\n",
    "ax.legend(loc=\"upper left\", bbox_to_anchor=(1, 1.1))\n",
    "plt.savefig(\"dangling_node_kda_vs_ode.png\", dpi=300, )"
   ]
  },
  {
   "cell_type": "code",
   "execution_count": 41,
   "metadata": {},
   "outputs": [
    {
     "data": {
      "image/png": "[encoded data removed]",
      "text/plain": [
       "<Figure size 360x216 with 1 Axes>"
      ]
     },
     "metadata": {
      "needs_background": "light"
     },
     "output_type": "display_data"
    }
   ],
   "source": [
    "fig = plt.figure(figsize=(5, 3), tight_layout=True)\n",
    "ax = fig.add_subplot(111)\n",
    "\n",
    "arr1 = p1d*np.ones(len(t3d))\n",
    "arr2 = p2d*np.ones(len(t3d))\n",
    "arr3 = p3d*np.ones(len(t3d))\n",
    "arr4 = p4d*np.ones(len(t3d))\n",
    "\n",
    "ax.semilogx(t3d, np.abs(arr1 - ode_3d[0])/arr1, color=\"brown\", ls=\"-\", label=prob_label(1))\n",
    "ax.semilogx(t3d, np.abs(arr2 - ode_3d[1])/arr2, color=\"grey\", ls=\"-\", label=prob_label(2))\n",
    "ax.semilogx(t3d, np.abs(arr3 - ode_3d[2])/arr3, color=\"tan\", ls=\"-\", label=prob_label(3))\n",
    "ax.semilogx(t3d, np.abs(arr4 - ode_3d[3])/arr4, color=\"orange\", ls=\"-\", label=prob_label(4))\n",
    "\n",
    "ax.set_title(\"Dangling Node KDA vs. ODE Error \\n\"\n",
    "             \"k43/k34 = {:.0e}\".format(k43/k34))\n",
    "ax.set_xlabel(r\"Time (s)\")\n",
    "ax.set_ylabel(\"Error\")\n",
    "ax.set_ylim(-0.1, 1.1)\n",
    "ax.grid(True)\n",
    "ax.legend(loc=\"best\")\n",
    "ax.legend(loc=\"upper left\", bbox_to_anchor=(1, 1))\n",
    "plt.savefig(\"dangling_node_kda_vs_ode_error.png\", dpi=300, )"
   ]
  },
  {
   "cell_type": "markdown",
   "metadata": {},
   "source": [
    "#### 2.) test case where k43 << k34"
   ]
  },
  {
   "cell_type": "code",
   "execution_count": 42,
   "metadata": {},
   "outputs": [],
   "source": [
    "k43 = 1e-4\n",
    "k34 = 1e4\n",
    "tmax = 10"
   ]
  },
  {
   "cell_type": "code",
   "execution_count": 43,
   "metadata": {},
   "outputs": [
    {
     "name": "stdout",
     "output_type": "stream",
     "text": [
      "\n",
      " kda.ode.ode_solver() reached convergence at t=0.029652312353771016\n",
      "\n",
      "\n",
      " kda.ode.ode_solver() reached convergence at t=0.028572805856112764\n",
      "\n",
      "\n",
      " kda.ode.ode_solver() reached convergence at t=0.029652312353771016\n",
      "\n",
      "\n",
      " kda.ode.ode_solver() reached convergence at t=0.03834729358815471\n",
      "\n",
      "\n",
      " kda.ode.ode_solver() reached convergence at t=0.03834729358815471\n",
      "\n"
     ]
    }
   ],
   "source": [
    "t3, t3d, ode_3, ode_3d, p1, p2, p3, p1d, p2d, p3d, p4d = generate_plot_data(k43=k43, k34=k34, tmax=tmax)"
   ]
  },
  {
   "cell_type": "code",
   "execution_count": 44,
   "metadata": {},
   "outputs": [
    {
     "data": {
      "image/png": "[encoded data removed]",
      "text/plain": [
       "<Figure size 288x216 with 1 Axes>"
      ]
     },
     "metadata": {
      "needs_background": "light"
     },
     "output_type": "display_data"
    }
   ],
   "source": [
    "plot_kda_vs_ODE(k43, k34, t3, p1, p2, p3, ode_3, savestr=\"3_state_probs_k43_less_than_k34.png\")"
   ]
  },
  {
   "cell_type": "code",
   "execution_count": 45,
   "metadata": {},
   "outputs": [
    {
     "data": {
      "image/png": "[encoded data removed]",
      "text/plain": [
       "<Figure size 360x216 with 1 Axes>"
      ]
     },
     "metadata": {
      "needs_background": "light"
     },
     "output_type": "display_data"
    }
   ],
   "source": [
    "plot_KDA_vs_ODE_error(k43, k34, t3d, p1, p2, p3, ode_3d, savestr=\"3_state_error_k43_less_than_k34.png\")"
   ]
  },
  {
   "cell_type": "markdown",
   "metadata": {},
   "source": [
    "#### 3.) test case where k43 >> k34"
   ]
  },
  {
   "cell_type": "code",
   "execution_count": 46,
   "metadata": {},
   "outputs": [],
   "source": [
    "k43 = 1e4\n",
    "k34 = 1e-4\n",
    "tmax = 10"
   ]
  },
  {
   "cell_type": "code",
   "execution_count": 47,
   "metadata": {},
   "outputs": [
    {
     "name": "stdout",
     "output_type": "stream",
     "text": [
      "\n",
      " kda.ode.ode_solver() reached convergence at t=0.029652312353771016\n",
      "\n",
      "\n",
      " kda.ode.ode_solver() reached convergence at t=0.028572805856112764\n",
      "\n",
      "\n",
      " kda.ode.ode_solver() reached convergence at t=0.029652312353771016\n",
      "\n",
      "\n",
      " kda.ode.ode_solver() reached convergence at t=0.028920535924308554\n",
      "\n",
      "\n",
      " kda.ode.ode_solver() reached convergence at t=0.028920535924308554\n",
      "\n"
     ]
    }
   ],
   "source": [
    "t3, t3d, ode_3, ode_3d, p1, p2, p3, p1d, p2d, p3d, p4d = generate_plot_data(k43=k43, k34=k34, tmax=tmax)"
   ]
  },
  {
   "cell_type": "code",
   "execution_count": 48,
   "metadata": {},
   "outputs": [
    {
     "data": {
      "image/png": "[encoded data removed]",
      "text/plain": [
       "<Figure size 288x216 with 1 Axes>"
      ]
     },
     "metadata": {
      "needs_background": "light"
     },
     "output_type": "display_data"
    }
   ],
   "source": [
    "plot_kda_vs_ODE(k43, k34, t3, p1, p2, p3, ode_3, savestr=\"3_state_probs_k43_greater_than_k34.png\")"
   ]
  },
  {
   "cell_type": "code",
   "execution_count": 49,
   "metadata": {},
   "outputs": [
    {
     "data": {
      "image/png": "[encoded data removed]",
      "text/plain": [
       "<Figure size 360x216 with 1 Axes>"
      ]
     },
     "metadata": {
      "needs_background": "light"
     },
     "output_type": "display_data"
    }
   ],
   "source": [
    "plot_KDA_vs_ODE_error(k43, k34, t3d, p1, p2, p3, ode_3d, savestr=\"3_state_error_k43_greater_than_k34.png\")"
   ]
  },
  {
   "cell_type": "markdown",
   "metadata": {},
   "source": [
    "## Probability Tables"
   ]
  },
  {
   "cell_type": "markdown",
   "metadata": {},
   "source": [
    "Need to make 3 separate tables (for clarity), where each one is for a different k43/k34 ratio"
   ]
  },
  {
   "cell_type": "code",
   "execution_count": 50,
   "metadata": {},
   "outputs": [],
   "source": [
    "import pandas as pd"
   ]
  },
  {
   "cell_type": "code",
   "execution_count": 51,
   "metadata": {},
   "outputs": [],
   "source": [
    "def generate_table(k43, k34, tmax, dec=5, kda_funcs=[p1f, p2f, p3f], kda_dangling_funcs=[p1f_3d, p2f_3d, p3f_3d, p4f_3d]):\n",
    "    kon = 1e10\n",
    "    koff = 1e3\n",
    "    k_conf = 100\n",
    "#     cin = 10 ** -6.5\n",
    "#     cout = 10 ** -7.5\n",
    "    cin = 10 ** -7\n",
    "    cout = 10 ** -7\n",
    "\n",
    "    k12 = kon*cin\n",
    "    k21 = koff\n",
    "    k23 = koff\n",
    "    k32 = kon*cout\n",
    "    k31 = k_conf\n",
    "    k13 = k_conf\n",
    "    \n",
    "    k3 = np.array([[0, k12, k13],\n",
    "                  [k21, 0, k23],\n",
    "                  [k31, k32, 0]])\n",
    "    k3d = np.array([[  0, k12, k13,   0],\n",
    "                    [k21,   0, k23,   0],\n",
    "                    [k31, k32,   0, k34],\n",
    "                    [0  ,   0, k43,   0]])\n",
    "\n",
    "    P3 = np.array([1, 1, 1])/3\n",
    "#     P3d = np.array([1, 1, 1, 1])/4\n",
    "    P3d = np.array([0, 0, 0, 1])\n",
    "\n",
    "    ode_3 = np.round(ode.ode_solver(P3, k3, t_max=tmax, tol=1e-12, atol=1e-16, rtol=1e-13).y, decimals=dec)\n",
    "    ode_3d = np.round(ode.ode_solver(P3d, k3d, t_max=tmax, tol=1e-12, atol=1e-16, rtol=1e-13).y, decimals=dec)\n",
    "\n",
    "    p1 = np.round(kda_funcs[0](k12, k21, k23, k32, k13, k31), decimals=dec)\n",
    "    p2 = np.round(kda_funcs[1](k12, k21, k23, k32, k13, k31), decimals=dec)\n",
    "    p3 = np.round(kda_funcs[2](k12, k21, k23, k32, k13, k31), decimals=dec)\n",
    "    \n",
    "    p1d = np.round(kda_dangling_funcs[0](k12, k21, k23, k32, k13, k31, k43=k43, k34=k34), decimals=dec)\n",
    "    p2d = np.round(kda_dangling_funcs[1](k12, k21, k23, k32, k13, k31, k43=k43, k34=k34), decimals=dec)\n",
    "    p3d = np.round(kda_dangling_funcs[2](k12, k21, k23, k32, k13, k31, k43=k43, k34=k34), decimals=dec)\n",
    "    p4d = np.round(kda_dangling_funcs[3](k12, k21, k23, k32, k13, k31, k43=k43, k34=k34), decimals=dec) \n",
    "\n",
    "    row_names = [r\"$p_{%s}$\" % (1), r\"$p_{%s}$\" % (2), r\"$p_{%s}$\" % (3), r\"$p_{%s}$\" % (4)]\n",
    "    col_names = [\"KDA\", \"ODE\", \"SVD\", \"KDA Dangling\", \"ODE Dangling\", \"SVD Dangling\"]\n",
    "\n",
    "    KDA_data = [p1, p2, p3, \"N/A\"]\n",
    "    KDA_dangling_data = [p1d, p2d, p3d, p4d]\n",
    "    ODE_data = [ode_3[0][-1], ode_3[1][-1], ode_3[2][-1], \"N/A\"]\n",
    "    ODE_dangling_data = [ode_3d[0][-1], ode_3d[1][-1], ode_3d[2][-1], ode_3d[3][-1]]\n",
    "    SVD_data = list(np.round(svd.svd_solver(k3), decimals=dec)) + [\"N/A\"]\n",
    "    SVD_dangling_data = np.round(svd.svd_solver(k3d), decimals=dec)\n",
    "\n",
    "    data = list(zip(KDA_data, ODE_data, SVD_data, KDA_dangling_data, ODE_dangling_data, SVD_dangling_data))\n",
    "#     print(data)\n",
    "    return pd.DataFrame(data, index=row_names, columns=col_names)"
   ]
  },
  {
   "cell_type": "code",
   "execution_count": 52,
   "metadata": {},
   "outputs": [],
   "source": [
    "def plot_table(tmax, dec=6, savestr=None):\n",
    "    val1 = 1\n",
    "    val2 = 1e-4\n",
    "    val3 = 1e4\n",
    "\n",
    "    df0 = generate_table(k43=val1, k34=val1, tmax=tmax)\n",
    "    df1 = generate_table(k43=val2, k34=val3, tmax=tmax)\n",
    "    df2 = generate_table(k43=val3, k34=val2, tmax=tmax)\n",
    "\n",
    "    Title_str = (\"KDA, ODE, SVD State Probabilities\")   \n",
    "    fig, axs = plt.subplots(3, figsize=(8, 3.5), tight_layout=True)\n",
    "#     fig.suptitle(Title_str)\n",
    "    \n",
    "    axs[0].table(cellText = df0.values,\n",
    "             rowLabels = df0.index,\n",
    "             colLabels = df0.columns,\n",
    "             loc = \"center\")\n",
    "    axs[0].legend(loc=\"upper left\", bbox_to_anchor=(1, 0.95), title=\"k43/k34 = {:.0f}\".format(val1))\n",
    "    \n",
    "    axs[1].table(cellText = df1.values,\n",
    "             rowLabels = df1.index,\n",
    "             colLabels = df1.columns,\n",
    "             loc = \"center\")\n",
    "    axs[1].legend(loc=\"upper left\", bbox_to_anchor=(1, 0.95), title=\"k43/k34 = {:.0e}\".format(val2/val3))\n",
    "    \n",
    "    axs[2].table(cellText = df2.values,\n",
    "             rowLabels = df2.index,\n",
    "             colLabels = df2.columns,\n",
    "             loc = \"center\")\n",
    "    axs[2].legend(loc=\"upper left\", bbox_to_anchor=(1, 0.95), title=\"k43/k34 = {:.0e}\".format(val3/val2))\n",
    "    \n",
    "    axs[0].axis(\"off\")\n",
    "    axs[1].axis(\"off\")\n",
    "    axs[2].axis(\"off\")\n",
    "    fig.canvas.draw()\n",
    "    if not savestr == None:\n",
    "        plt.savefig(savestr, bbox_inches=\"tight\", dpi=300)"
   ]
  },
  {
   "cell_type": "code",
   "execution_count": 53,
   "metadata": {},
   "outputs": [
    {
     "name": "stdout",
     "output_type": "stream",
     "text": [
      "\n",
      " kda.ode.ode_solver() reached convergence at t=0.0\n",
      "\n",
      "\n",
      " kda.ode.ode_solver() reached convergence at t=3.1622776601683796e-06\n",
      "\n",
      "\n",
      " kda.ode.ode_solver() reached convergence at t=0.0\n",
      "\n",
      "\n",
      " kda.ode.ode_solver() reached convergence at t=3.1622776601683796e-06\n",
      "\n"
     ]
    },
    {
     "name": "stderr",
     "output_type": "stream",
     "text": [
      "No handles with labels found to put in legend.\n",
      "No handles with labels found to put in legend.\n",
      "No handles with labels found to put in legend.\n"
     ]
    },
    {
     "name": "stdout",
     "output_type": "stream",
     "text": [
      "\n",
      " kda.ode.ode_solver() reached convergence at t=0.0\n",
      "\n",
      "\n",
      " kda.ode.ode_solver() reached convergence at t=3.1622776601683796e-06\n",
      "\n",
      "\n",
      " kda.ode.ode_solver() reached convergence at t=0.0\n",
      "\n",
      "\n",
      " kda.ode.ode_solver() reached convergence at t=3.1622776601683796e-06\n",
      "\n",
      "\n",
      " kda.ode.ode_solver() reached convergence at t=0.03834729358815471\n",
      "\n",
      "\n",
      " kda.ode.ode_solver() reached convergence at t=0.03834729358815471\n",
      "\n",
      "\n",
      " kda.ode.ode_solver() reached convergence at t=0.0\n",
      "\n",
      "\n",
      " kda.ode.ode_solver() reached convergence at t=3.1622776601683796e-06\n",
      "\n",
      "\n",
      " kda.ode.ode_solver() reached convergence at t=0.0\n",
      "\n",
      "\n",
      " kda.ode.ode_solver() reached convergence at t=3.1622776601683796e-06\n",
      "\n",
      "\n",
      " kda.ode.ode_solver() reached convergence at t=0.028920535924308554\n",
      "\n",
      "\n",
      " kda.ode.ode_solver() reached convergence at t=0.028920535924308554\n",
      "\n"
     ]
    },
    {
     "name": "stderr",
     "output_type": "stream",
     "text": [
      "findfont: Font family ['Helvetica'] not found. Falling back to DejaVu Sans.\n",
      "findfont: Font family ['Helvetica'] not found. Falling back to DejaVu Sans.\n",
      "findfont: Font family ['Helvetica'] not found. Falling back to DejaVu Sans.\n",
      "findfont: Font family ['Helvetica'] not found. Falling back to DejaVu Sans.\n"
     ]
    },
    {
     "data": {
      "image/png": "[encoded data removed]",
      "text/plain": [
       "<Figure size 576x252 with 3 Axes>"
      ]
     },
     "metadata": {
      "needs_background": "light"
     },
     "output_type": "display_data"
    }
   ],
   "source": [
    "plot_table(tmax=10, savestr=\"KDA_ODE_SVD_table.png\")"
   ]
  },
  {
   "cell_type": "code",
   "execution_count": null,
   "metadata": {},
   "outputs": [],
   "source": []
  },
  {
   "cell_type": "code",
   "execution_count": null,
   "metadata": {},
   "outputs": [],
   "source": []
  },
  {
   "cell_type": "code",
   "execution_count": null,
   "metadata": {},
   "outputs": [],
   "source": []
  }
 ],
 "metadata": {
  "kernelspec": {
   "display_name": "Python 3 (ipykernel)",
   "language": "python",
   "name": "python3"
  },
  "language_info": {
   "codemirror_mode": {
    "name": "ipython",
    "version": 3
   },
   "file_extension": ".py",
   "mimetype": "text/x-python",
   "name": "python",
   "nbconvert_exporter": "python",
   "pygments_lexer": "ipython3",
   "version": "3.8.8"
  }
 },
 "nbformat": 4,
 "nbformat_minor": 2
}
